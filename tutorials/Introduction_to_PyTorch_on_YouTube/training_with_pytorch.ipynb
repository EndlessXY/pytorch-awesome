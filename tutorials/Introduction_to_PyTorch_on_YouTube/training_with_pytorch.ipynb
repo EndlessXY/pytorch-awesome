{
 "cells": [
  {
   "cell_type": "markdown",
   "metadata": {},
   "source": [
    "# Training with PyTorch 使用 PyTorch 进行训练"
   ]
  },
  {
   "cell_type": "markdown",
   "metadata": {},
   "source": [
    "观看[yotube视频](https://www.youtube.com/watch?v=jF43_wj_DCQ)"
   ]
  },
  {
   "cell_type": "markdown",
   "metadata": {},
   "source": [
    "## 介绍\n",
    "\n",
    "在之前的视频中，我们讨论并演示了：\n",
    "\n",
    "- 使用 `torch.nn` 模块中的神经网络层和函数来构建模型\n",
    "- 自动梯度计算的机制，这是基于梯度的模型训练的核心\n",
    "- 使用 TensorBoard 来可视化训练进展和其他活动\n",
    "\n",
    "在本视频中，我们将为你的工具库添加一些新工具：\n",
    "\n",
    "- 我们将熟悉数据集和数据加载器抽象，以及它们如何简化在训练循环中为模型提供数据的过程\n",
    "- 我们将讨论特定的损失函数以及何时使用它们\n",
    "- 我们将研究 PyTorch 优化器，它实现了根据损失函数的结果调整模型权重的算法\n",
    "\n",
    "最后，我们将把所有这些组合在一起，展示完整的 PyTorch 训练循环的实际应用。"
   ]
  },
  {
   "cell_type": "markdown",
   "metadata": {},
   "source": [
    "## 数据集与数据加载器\n",
    "\n",
    "`Dataset` 和 `DataLoader` 类封装了从存储中提取数据并将其暴露给训练循环的过程。\n",
    "\n",
    "- `Dataset` 负责访问和处理单个数据实例。\n",
    "- `DataLoader` 从 `Dataset` 中提取数据实例（可以自动完成或通过定义的采样器），将它们收集成批，并返回供训练循环使用。`DataLoader` 可以处理所有类型的数据集，不论它们包含何种类型的数据。\n",
    "\n",
    "在这个教程中，我们将使用 TorchVision 提供的 Fashion-MNIST 数据集。我们使用 `torchvision.transforms.Normalize()` 来对图像内容进行零中心化和标准化处理，并下载训练和验证数据集。"
   ]
  },
  {
   "cell_type": "code",
   "execution_count": 1,
   "metadata": {},
   "outputs": [
    {
     "name": "stdout",
     "output_type": "stream",
     "text": [
      "Training set has 60000 instances\n",
      "Validation set has 10000 instances\n"
     ]
    }
   ],
   "source": [
    "import os\n",
    "import torch\n",
    "import torchvision\n",
    "import torchvision.transforms as transforms\n",
    "\n",
    "# PyTorch TensorBoard support\n",
    "from torch.utils.tensorboard import SummaryWriter\n",
    "from datetime import datetime\n",
    "\n",
    "data_path = os.path.expanduser(\"~/Data/Vision/FashionMNIST\")\n",
    "\n",
    "transform = transforms.Compose(\n",
    "    [transforms.ToTensor(),\n",
    "    transforms.Normalize((0.5,), (0.5,))])\n",
    "\n",
    "# Create datasets for training & validation, download if necessary\n",
    "training_set = torchvision.datasets.FashionMNIST(data_path, train=True, transform=transform, download=True)\n",
    "validation_set = torchvision.datasets.FashionMNIST(data_path, train=False, transform=transform, download=True)\n",
    "\n",
    "# Create data loaders for our datasets; shuffle for training, not for validation\n",
    "training_loader = torch.utils.data.DataLoader(training_set, batch_size=4, shuffle=True)\n",
    "validation_loader = torch.utils.data.DataLoader(validation_set, batch_size=4, shuffle=False)\n",
    "\n",
    "# Class labels\n",
    "classes = ('T-shirt/top', 'Trouser', 'Pullover', 'Dress', 'Coat',\n",
    "        'Sandal', 'Shirt', 'Sneaker', 'Bag', 'Ankle Boot')\n",
    "\n",
    "# Report split sizes\n",
    "print('Training set has {} instances'.format(len(training_set)))\n",
    "print('Validation set has {} instances'.format(len(validation_set)))"
   ]
  },
  {
   "cell_type": "markdown",
   "metadata": {},
   "source": [
    "将数据可视化作为健全性检查："
   ]
  },
  {
   "cell_type": "code",
   "execution_count": 2,
   "metadata": {},
   "outputs": [
    {
     "name": "stdout",
     "output_type": "stream",
     "text": [
      "Shirt  Shirt  Coat  Ankle Boot\n"
     ]
    },
    {
     "data": {
      "image/png": "[encoded data removed]",
      "text/plain": [
       "<Figure size 640x480 with 1 Axes>"
      ]
     },
     "metadata": {},
     "output_type": "display_data"
    }
   ],
   "source": [
    "import matplotlib.pyplot as plt\n",
    "import numpy as np\n",
    "\n",
    "# Helper function for inline image display\n",
    "def matplotlib_imshow(img, one_channel=False):\n",
    "    if one_channel:\n",
    "        img = img.mean(dim=0)\n",
    "    img = img / 2 + 0.5     # unnormalize\n",
    "    npimg = img.numpy()\n",
    "    if one_channel:\n",
    "        plt.imshow(npimg, cmap=\"Greys\")\n",
    "    else:\n",
    "        plt.imshow(np.transpose(npimg, (1, 2, 0)))\n",
    "\n",
    "dataiter = iter(training_loader)\n",
    "images, labels = next(dataiter)\n",
    "\n",
    "# Create a grid from the images and show them\n",
    "img_grid = torchvision.utils.make_grid(images)\n",
    "matplotlib_imshow(img_grid, one_channel=True)\n",
    "print('  '.join(classes[labels[j]] for j in range(4)))"
   ]
  },
  {
   "cell_type": "markdown",
   "metadata": {},
   "source": [
    "## 模型\n",
    "\n",
    "在这个示例中我们使用的模型是 LeNet-5 的变体 —— 如果你已经观看了本系列之前的视频，它应该很熟悉。"
   ]
  },
  {
   "cell_type": "code",
   "execution_count": 3,
   "metadata": {},
   "outputs": [],
   "source": [
    "import torch.nn as nn\n",
    "import torch.nn.functional as F\n",
    "\n",
    "# PyTorch models inherit from torch.nn.Module\n",
    "class GarmentClassifier(nn.Module):\n",
    "    def __init__(self):\n",
    "        super(GarmentClassifier, self).__init__()\n",
    "        self.conv1 = nn.Conv2d(1, 6, 5)\n",
    "        self.pool = nn.MaxPool2d(2, 2)\n",
    "        self.conv2 = nn.Conv2d(6, 16, 5)\n",
    "        self.fc1 = nn.Linear(16 * 4 * 4, 120)\n",
    "        self.fc2 = nn.Linear(120, 84)\n",
    "        self.fc3 = nn.Linear(84, 10)\n",
    "\n",
    "    def forward(self, x):\n",
    "        x = self.pool(F.relu(self.conv1(x)))\n",
    "        x = self.pool(F.relu(self.conv2(x)))\n",
    "        x = x.view(-1, 16 * 4 * 4)\n",
    "        x = F.relu(self.fc1(x))\n",
    "        x = F.relu(self.fc2(x))\n",
    "        x = self.fc3(x)\n",
    "        return x\n",
    "\n",
    "\n",
    "model = GarmentClassifier()"
   ]
  },
  {
   "cell_type": "markdown",
   "metadata": {},
   "source": [
    "### 损失函数\n",
    "\n",
    "在这个示例中，我们将使用交叉熵损失。为了演示的目的，我们将创建一些虚拟输出和标签值，并将它们通过损失函数，然后检查结果。"
   ]
  },
  {
   "cell_type": "code",
   "execution_count": 4,
   "metadata": {},
   "outputs": [
    {
     "name": "stdout",
     "output_type": "stream",
     "text": [
      "tensor([[0.4070, 0.0985, 0.3708, 0.7122, 0.1880, 0.6242, 0.7090, 0.5607, 0.5170,\n",
      "         0.1250],\n",
      "        [0.9666, 0.0143, 0.7458, 0.6594, 0.0675, 0.6823, 0.3238, 0.3263, 0.1322,\n",
      "         0.0732],\n",
      "        [0.1993, 0.0415, 0.6976, 0.4906, 0.1774, 0.2374, 0.1397, 0.9056, 0.7257,\n",
      "         0.2410],\n",
      "        [0.6188, 0.1370, 0.2332, 0.0567, 0.3781, 0.7456, 0.4332, 0.0430, 0.5304,\n",
      "         0.5670]])\n",
      "tensor([1, 5, 3, 7])\n",
      "Total loss for this batch: 2.407946825027466\n"
     ]
    }
   ],
   "source": [
    "loss_fn = torch.nn.CrossEntropyLoss()\n",
    "\n",
    "# NB: Loss functions expect data in batches, so we're creating batches of 4\n",
    "# Represents the model's confidence in each of the 10 classes for a given input\n",
    "dummy_outputs = torch.rand(4, 10)\n",
    "# Represents the correct class among the 10 being tested\n",
    "dummy_labels = torch.tensor([1, 5, 3, 7])\n",
    "\n",
    "print(dummy_outputs)\n",
    "print(dummy_labels)\n",
    "\n",
    "loss = loss_fn(dummy_outputs, dummy_labels)\n",
    "print('Total loss for this batch: {}'.format(loss.item()))"
   ]
  },
  {
   "cell_type": "markdown",
   "metadata": {},
   "source": [
    "## 优化器\n",
    "\n",
    "在这个示例中，我们将使用简单的 **带动量的随机梯度下降**。\n",
    "\n",
    "可以尝试对该优化方案进行一些变化：\n",
    "\n",
    "- 学习率决定了优化器每次更新权重的步长。不同的学习率对训练结果（准确率和收敛时间）有什么影响？\n",
    "- 动量在多个步骤中将优化器向最强梯度的方向推进。改变该值会对结果产生什么影响？\n",
    "- 尝试使用不同的优化算法，如平均SGD、Adagrad 或 Adam。它们的结果有什么不同？"
   ]
  },
  {
   "cell_type": "code",
   "execution_count": 5,
   "metadata": {},
   "outputs": [],
   "source": [
    "# Optimizers specified in the torch.optim package\n",
    "optimizer = torch.optim.SGD(model.parameters(), lr=0.001, momentum=0.9)"
   ]
  },
  {
   "cell_type": "markdown",
   "metadata": {},
   "source": [
    "## 训练循环\n",
    "\n",
    "下面是一个执行一个训练周期的函数。它从 `DataLoader` 中获取数据，并在每次循环时执行以下操作：\n",
    "\n",
    "- 从 `DataLoader` 中获取一批训练数据\n",
    "- 将优化器的梯度清零\n",
    "- 执行推理操作 —— 即获取模型对输入批次的预测\n",
    "- 计算这组预测结果与数据集标签之间的损失\n",
    "- 根据学习权重计算反向梯度\n",
    "- 告诉优化器执行一次学习步骤 —— 即根据观察到的梯度调整模型的学习权重\n",
    "- 每1000批报告一次损失\n",
    "- 最后，报告最后1000批的平均每批损失，用于与验证运行进行比较"
   ]
  },
  {
   "cell_type": "code",
   "execution_count": 6,
   "metadata": {},
   "outputs": [],
   "source": [
    "def train_one_epoch(epoch_index, tb_writer):\n",
    "    running_loss = 0.\n",
    "    last_loss = 0.\n",
    "\n",
    "    # Here, we use enumerate(training_loader) instead of\n",
    "    # iter(training_loader) so that we can track the batch\n",
    "    # index and do some intra-epoch reporting\n",
    "    for i, data in enumerate(training_loader):\n",
    "        # Every data instance is an input + label pair\n",
    "        inputs, labels = data\n",
    "\n",
    "        # Zero your gradients for every batch!\n",
    "        optimizer.zero_grad()\n",
    "\n",
    "        # Make predictions for this batch\n",
    "        outputs = model(inputs)\n",
    "\n",
    "        # Compute the loss and its gradients\n",
    "        loss = loss_fn(outputs, labels)\n",
    "        loss.backward()\n",
    "\n",
    "        # Adjust learning weights\n",
    "        optimizer.step()\n",
    "\n",
    "        # Gather data and report\n",
    "        running_loss += loss.item()\n",
    "        if i % 1000 == 999:\n",
    "            last_loss = running_loss / 1000 # loss per batch\n",
    "            print('  batch {} loss: {}'.format(i + 1, last_loss))\n",
    "            tb_x = epoch_index * len(training_loader) + i + 1\n",
    "            tb_writer.add_scalar('Loss/train', last_loss, tb_x)\n",
    "            running_loss = 0.\n",
    "\n",
    "    return last_loss"
   ]
  },
  {
   "cell_type": "markdown",
   "metadata": {},
   "source": [
    "## 每个 Epoch 的活动\n",
    "\n",
    "每个 Epoch 完成后，我们需要执行以下几项操作：\n",
    "\n",
    "- 通过检查未用于训练的数据集上的相对损失来执行验证，并报告结果\n",
    "- 保存模型的副本\n",
    "\n",
    "这里，我们将在 TensorBoard 中进行报告。为此，我们需要进入命令行启动 TensorBoard，并在另一个浏览器标签中打开它。"
   ]
  },
  {
   "cell_type": "code",
   "execution_count": 7,
   "metadata": {},
   "outputs": [
    {
     "name": "stdout",
     "output_type": "stream",
     "text": [
      "EPOCH 1:\n",
      "  batch 1000 loss: 1.901177402690053\n",
      "  batch 2000 loss: 0.8780766501948237\n",
      "  batch 3000 loss: 0.728695961739868\n",
      "  batch 4000 loss: 0.6444999854215421\n",
      "  batch 5000 loss: 0.6016919274502434\n",
      "  batch 6000 loss: 0.5802384046618827\n",
      "  batch 7000 loss: 0.572995180210215\n",
      "  batch 8000 loss: 0.5105441415755777\n",
      "  batch 9000 loss: 0.48245165446284227\n",
      "  batch 10000 loss: 0.4790531073939055\n",
      "  batch 11000 loss: 0.4673302624820499\n",
      "  batch 12000 loss: 0.4474046237405273\n",
      "  batch 13000 loss: 0.4428332263348857\n",
      "  batch 14000 loss: 0.44363273066078546\n",
      "  batch 15000 loss: 0.42238903905585173\n",
      "LOSS train 0.42238903905585173 valid 0.5170979499816895\n",
      "EPOCH 2:\n",
      "  batch 1000 loss: 0.40829286965017675\n",
      "  batch 2000 loss: 0.40010300725942943\n",
      "  batch 3000 loss: 0.39529749495198485\n",
      "  batch 4000 loss: 0.3769397274689982\n",
      "  batch 5000 loss: 0.36115959496368305\n",
      "  batch 6000 loss: 0.38121517101346397\n",
      "  batch 7000 loss: 0.3749814493315062\n",
      "  batch 8000 loss: 0.3579688208070802\n",
      "  batch 9000 loss: 0.3699201780717121\n",
      "  batch 10000 loss: 0.3678262346960255\n",
      "  batch 11000 loss: 0.36738558095516055\n",
      "  batch 12000 loss: 0.35969034407062284\n",
      "  batch 13000 loss: 0.35167637514462696\n",
      "  batch 14000 loss: 0.342203653623088\n",
      "  batch 15000 loss: 0.32376384118289936\n",
      "LOSS train 0.32376384118289936 valid 0.35727256536483765\n",
      "EPOCH 3:\n",
      "  batch 1000 loss: 0.33607232816072063\n",
      "  batch 2000 loss: 0.33570231627536123\n",
      "  batch 3000 loss: 0.3217543490017997\n",
      "  batch 4000 loss: 0.314143115337949\n",
      "  batch 5000 loss: 0.3132567425440793\n",
      "  batch 6000 loss: 0.319019917803962\n",
      "  batch 7000 loss: 0.3262636732798637\n",
      "  batch 8000 loss: 0.32384979506538364\n",
      "  batch 9000 loss: 0.31133675779160697\n",
      "  batch 10000 loss: 0.29643585525779054\n",
      "  batch 11000 loss: 0.31463333005991445\n",
      "  batch 12000 loss: 0.3177158945655101\n",
      "  batch 13000 loss: 0.31929844610045255\n",
      "  batch 14000 loss: 0.3128882819930441\n",
      "  batch 15000 loss: 0.312999952344333\n",
      "LOSS train 0.312999952344333 valid 0.3205831050872803\n",
      "EPOCH 4:\n",
      "  batch 1000 loss: 0.3074615689685452\n",
      "  batch 2000 loss: 0.2907119816516988\n",
      "  batch 3000 loss: 0.29099805540147006\n",
      "  batch 4000 loss: 0.26550568912844574\n",
      "  batch 5000 loss: 0.3140715507097484\n",
      "  batch 6000 loss: 0.27161746144811694\n",
      "  batch 7000 loss: 0.2963520789988143\n",
      "  batch 8000 loss: 0.2809876176522084\n",
      "  batch 9000 loss: 0.3069855730432173\n",
      "  batch 10000 loss: 0.2957036729217507\n",
      "  batch 11000 loss: 0.2777334216540239\n",
      "  batch 12000 loss: 0.2976839631240873\n",
      "  batch 13000 loss: 0.2926150300474619\n",
      "  batch 14000 loss: 0.2697145157444429\n",
      "  batch 15000 loss: 0.2986192226089697\n",
      "LOSS train 0.2986192226089697 valid 0.3303883671760559\n",
      "EPOCH 5:\n",
      "  batch 1000 loss: 0.27896202834802536\n",
      "  batch 2000 loss: 0.25505120426361466\n",
      "  batch 3000 loss: 0.29231963118558635\n",
      "  batch 4000 loss: 0.27740549915590873\n",
      "  batch 5000 loss: 0.27496339342003195\n",
      "  batch 6000 loss: 0.2646720021888832\n",
      "  batch 7000 loss: 0.2632527217366969\n",
      "  batch 8000 loss: 0.2605698696604959\n",
      "  batch 9000 loss: 0.2607463153628523\n",
      "  batch 10000 loss: 0.27244878538489503\n",
      "  batch 11000 loss: 0.27618768920008185\n",
      "  batch 12000 loss: 0.27562538319024793\n",
      "  batch 13000 loss: 0.29227032982621315\n",
      "  batch 14000 loss: 0.25567219246003153\n",
      "  batch 15000 loss: 0.27773258365578385\n",
      "LOSS train 0.27773258365578385 valid 0.31630194187164307\n"
     ]
    }
   ],
   "source": [
    "# Initializing in a separate cell so we can easily add more epochs to the same run\n",
    "timestamp = datetime.now().strftime('%Y%m%d_%H%M%S')\n",
    "writer = SummaryWriter('runs/fashion_trainer_{}'.format(timestamp))\n",
    "epoch_number = 0\n",
    "\n",
    "EPOCHS = 5\n",
    "\n",
    "best_vloss = 1_000_000.\n",
    "\n",
    "os.makedirs('models', exist_ok=True)\n",
    "\n",
    "for epoch in range(EPOCHS):\n",
    "    print('EPOCH {}:'.format(epoch_number + 1))\n",
    "\n",
    "    # Make sure gradient tracking is on, and do a pass over the data\n",
    "    model.train(True)\n",
    "    avg_loss = train_one_epoch(epoch_number, writer)\n",
    "\n",
    "\n",
    "    running_vloss = 0.0\n",
    "    # Set the model to evaluation mode, disabling dropout and using population\n",
    "    # statistics for batch normalization.\n",
    "    model.eval()\n",
    "\n",
    "    # Disable gradient computation and reduce memory consumption.\n",
    "    with torch.no_grad():\n",
    "        for i, vdata in enumerate(validation_loader):\n",
    "            vinputs, vlabels = vdata\n",
    "            voutputs = model(vinputs)\n",
    "            vloss = loss_fn(voutputs, vlabels)\n",
    "            running_vloss += vloss\n",
    "\n",
    "    avg_vloss = running_vloss / (i + 1)\n",
    "    print('LOSS train {} valid {}'.format(avg_loss, avg_vloss))\n",
    "\n",
    "    # Log the running loss averaged per batch\n",
    "    # for both training and validation\n",
    "    writer.add_scalars('Training vs. Validation Loss',\n",
    "                    { 'Training' : avg_loss, 'Validation' : avg_vloss },\n",
    "                    epoch_number + 1)\n",
    "    writer.flush()\n",
    "\n",
    "    # Track best performance, and save the model's state\n",
    "    if avg_vloss < best_vloss:\n",
    "        best_vloss = avg_vloss\n",
    "        model_path = 'models/model_{}_{}'.format(timestamp, epoch_number)\n",
    "        torch.save(model.state_dict(), model_path)\n",
    "\n",
    "    epoch_number += 1"
   ]
  },
  {
   "cell_type": "markdown",
   "metadata": {},
   "source": [
    "要加载模型的保存版本："
   ]
  },
  {
   "cell_type": "code",
   "execution_count": 8,
   "metadata": {},
   "outputs": [
    {
     "data": {
      "text/plain": [
       "<All keys matched successfully>"
      ]
     },
     "execution_count": 8,
     "metadata": {},
     "output_type": "execute_result"
    }
   ],
   "source": [
    "saved_model = GarmentClassifier()\n",
    "saved_model.load_state_dict(torch.load(model_path))"
   ]
  },
  {
   "cell_type": "markdown",
   "metadata": {},
   "source": [
    "一旦你加载了模型，它就可以用于任何你需要的任务了——无论是继续训练、推理，还是进行分析。\n",
    "\n",
    "需要注意的是，如果你的模型在构造函数中有影响模型结构的参数，那么你需要提供这些参数，并将模型配置为与保存时的状态完全相同。"
   ]
  },
  {
   "cell_type": "markdown",
   "metadata": {},
   "source": [
    "## 其他资源\n",
    "\n",
    "- PyTorch 官方文档中的 [数据工具](https://pytorch.org/docs/stable/data.html)，包括 Dataset 和 DataLoader\n",
    "- 关于 [GPU 训练中使用固定内存](https://pytorch.org/docs/stable/notes/cuda.html#use-of-pinned-memory) 的说明\n",
    "- 关于 [TorchVision](https://pytorch.org/vision/stable/datasets.html), [TorchText](https://pytorch.org/text/stable/datasets.html), 和 [TorchAudio](https://pytorch.org/audio/stable/index.html) 的数据集文档\n",
    "- PyTorch 中可用的 [损失函数](https://pytorch.org/docs/stable/nn.html#loss-functions) 文档\n",
    "- [torch.optim](https://pytorch.org/docs/stable/optim.html) 包的文档，其中包括优化器和相关工具，如学习率调度\n",
    "- 详细的 [保存和加载模型的教程](https://pytorch.org/tutorials/beginner/saving_loading_models.html)\n",
    "- PyTorch 教程部分提供了关于分类、生成对抗网络、强化学习等领域的大量训练任务的 [教程](https://pytorch.org/tutorials/)"
   ]
  }
 ],
 "metadata": {
  "kernelspec": {
   "display_name": "pytorch",
   "language": "python",
   "name": "pytorch"
  },
  "language_info": {
   "codemirror_mode": {
    "name": "ipython",
    "version": 3
   },
   "file_extension": ".py",
   "mimetype": "text/x-python",
   "name": "python",
   "nbconvert_exporter": "python",
   "pygments_lexer": "ipython3",
   "version": "3.10.13"
  }
 },
 "nbformat": 4,
 "nbformat_minor": 2
}
