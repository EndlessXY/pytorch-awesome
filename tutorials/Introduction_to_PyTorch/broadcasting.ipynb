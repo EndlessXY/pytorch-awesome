{
 "cells": [
  {
   "cell_type": "markdown",
   "source": [
    "# 广播"
   ],
   "metadata": {
    "collapsed": false
   },
   "id": "31155413505b08ea"
  },
  {
   "cell_type": "markdown",
   "source": [
    "广播是在运算期间处理不同形状的张量，这是一种强大的机制，可以让张量的形状在一些情况下自动改变，以便与其他张量进行运算。较小形状的张量会被广播到较大形状的张量，以便使它们的形状兼容。通常其中一个张量的一个维度是1，这种情况下，这个维度会被广播到其他张量的维度上。"
   ],
   "metadata": {
    "collapsed": false
   },
   "id": "bcb5ab533a634a60"
  },
  {
   "cell_type": "markdown",
   "source": [
    "## General semantics 基本规则"
   ],
   "metadata": {
    "collapsed": false
   },
   "id": "1e0eeeb7546feb4e"
  },
  {
   "cell_type": "markdown",
   "source": [
    "- Each tensor has at least one dimension. (每个张量至少有一个维度)\n",
    "- When iterating over the dimension sizes, starting at the trailing dimension, the dimension sizes must either be equal, one of them is 1, or one of them does not exist. (当迭代维度大小时，从最后一个维度开始，维度大小必须相等，其中一个为1，或者其中一个不存在)"
   ],
   "metadata": {
    "collapsed": false
   },
   "id": "c08a66b821ce6e8b"
  },
  {
   "cell_type": "markdown",
   "source": [
    "例如："
   ],
   "metadata": {
    "collapsed": false
   },
   "id": "4dd02859cdb2a89c"
  },
  {
   "cell_type": "code",
   "execution_count": 1,
   "outputs": [],
   "source": [
    "import torch\n",
    "\n",
    "x=torch.empty(5,7,3)  # 创建未初始化指定形状的张量\n",
    "y=torch.empty(5,7,3)\n",
    "# same shapes are always broadcastable (i.e. the above rules always hold)\n",
    "\n",
    "x=torch.empty((0,))\n",
    "y=torch.empty(2,2)\n",
    "# x and y are not broadcastable, because x does not have at least 1 dimension\n",
    "\n",
    "# can line up trailing dimensions\n",
    "x=torch.empty(5,3,4,1)\n",
    "y=torch.empty(  3,1,1)\n",
    "# 1st trailing dimension: both have size 1\n",
    "# 2nd trailing dimension: y has size 1\n",
    "# 3rd trailing dimension: x size == y size\n",
    "# 4th trailing dimension: y dimension doesn't exist\n",
    "\n",
    "# but:\n",
    "x=torch.empty(5,2,4,1)\n",
    "y=torch.empty(  3,1,1)\n",
    "# x and y are not broadcastable, because in the 3rd trailing dimension 2 != 3"
   ],
   "metadata": {
    "collapsed": false,
    "ExecuteTime": {
     "end_time": "2024-09-19T02:19:50.447219Z",
     "start_time": "2024-09-19T02:19:49.855929Z"
    }
   },
   "id": "7fe7fbe2a4e7304e"
  },
  {
   "cell_type": "markdown",
   "source": [
    "如果两个张量`x` , `y`是“可广播的”，则结果张量大小计算如下："
   ],
   "metadata": {
    "collapsed": false
   },
   "id": "b55aa01bac5033f0"
  },
  {
   "cell_type": "markdown",
   "source": [
    "- 如果`x`和`y`的维数不相等，则在维数较少的张量的维数前面加上 `1`，使它们的长度相等。\n",
    "- 然后，对于每个维度，结果张量的大小是输入张量的大小的最大值。"
   ],
   "metadata": {
    "collapsed": false
   },
   "id": "a9fa6e4b1dd898f"
  },
  {
   "cell_type": "markdown",
   "source": [
    "例如："
   ],
   "metadata": {
    "collapsed": false
   },
   "id": "e7609006642ca7b6"
  },
  {
   "cell_type": "code",
   "execution_count": 2,
   "outputs": [
    {
     "name": "stdout",
     "output_type": "stream",
     "text": [
      "torch.Size([5, 3, 4, 1])\n",
      "torch.Size([3, 1, 7])\n"
     ]
    },
    {
     "ename": "RuntimeError",
     "evalue": "The size of tensor a (2) must match the size of tensor b (3) at non-singleton dimension 1",
     "output_type": "error",
     "traceback": [
      "\u001B[0;31m---------------------------------------------------------------------------\u001B[0m",
      "\u001B[0;31mRuntimeError\u001B[0m                              Traceback (most recent call last)",
      "Cell \u001B[0;32mIn[2], line 13\u001B[0m\n\u001B[1;32m     11\u001B[0m x\u001B[38;5;241m=\u001B[39mtorch\u001B[38;5;241m.\u001B[39mempty(\u001B[38;5;241m5\u001B[39m,\u001B[38;5;241m2\u001B[39m,\u001B[38;5;241m4\u001B[39m,\u001B[38;5;241m1\u001B[39m)\n\u001B[1;32m     12\u001B[0m y\u001B[38;5;241m=\u001B[39mtorch\u001B[38;5;241m.\u001B[39mempty(\u001B[38;5;241m3\u001B[39m,\u001B[38;5;241m1\u001B[39m,\u001B[38;5;241m1\u001B[39m)\n\u001B[0;32m---> 13\u001B[0m (\u001B[43mx\u001B[49m\u001B[38;5;241;43m+\u001B[39;49m\u001B[43my\u001B[49m)\u001B[38;5;241m.\u001B[39msize()\n",
      "\u001B[0;31mRuntimeError\u001B[0m: The size of tensor a (2) must match the size of tensor b (3) at non-singleton dimension 1"
     ]
    }
   ],
   "source": [
    "# can line up trailing dimensions to make reading easier\n",
    "x=torch.empty(5,1,4,1)\n",
    "y=torch.empty(  3,1,1)\n",
    "print((x+y).size())\n",
    "\n",
    "# but not necessary:\n",
    "x=torch.empty(1)\n",
    "y=torch.empty(3,1,7)\n",
    "print((x+y).size())\n",
    "\n",
    "x=torch.empty(5,2,4,1)\n",
    "y=torch.empty(3,1,1)\n",
    "(x+y).size()"
   ],
   "metadata": {
    "collapsed": false,
    "ExecuteTime": {
     "end_time": "2024-09-19T02:19:52.802512Z",
     "start_time": "2024-09-19T02:19:52.585937Z"
    }
   },
   "id": "e1fc27fa4a4fdc2e"
  },
  {
   "cell_type": "markdown",
   "source": [
    "## In-place semantics 原地语义"
   ],
   "metadata": {
    "collapsed": false
   },
   "id": "c0bc420f909b57ce"
  },
  {
   "cell_type": "markdown",
   "source": [
    "张量的原地操作是指在不更改张量的数据的情况下更改张量的内容。例如，`x.copy_(y)`, `x.t_()`, 将会改变`x`的值。"
   ],
   "metadata": {
    "collapsed": false
   },
   "id": "e5cfc95d9a5aca6e"
  },
  {
   "cell_type": "markdown",
   "source": [
    "一个复杂之处是原地操作不允许就地张量因广播而改变形状。"
   ],
   "metadata": {
    "collapsed": false
   },
   "id": "9decd1746beef771"
  },
  {
   "cell_type": "markdown",
   "source": [
    "例如："
   ],
   "metadata": {
    "collapsed": false
   },
   "id": "f9a4f6619e6c7aa5"
  },
  {
   "cell_type": "code",
   "execution_count": 3,
   "outputs": [
    {
     "name": "stdout",
     "output_type": "stream",
     "text": [
      "torch.Size([5, 3, 4, 1])\n"
     ]
    },
    {
     "ename": "RuntimeError",
     "evalue": "output with shape [1, 3, 1] doesn't match the broadcast shape [3, 3, 7]",
     "output_type": "error",
     "traceback": [
      "\u001B[0;31m---------------------------------------------------------------------------\u001B[0m",
      "\u001B[0;31mRuntimeError\u001B[0m                              Traceback (most recent call last)",
      "Cell \u001B[0;32mIn[3], line 7\u001B[0m\n\u001B[1;32m      5\u001B[0m x\u001B[38;5;241m=\u001B[39mtorch\u001B[38;5;241m.\u001B[39mempty(\u001B[38;5;241m1\u001B[39m,\u001B[38;5;241m3\u001B[39m,\u001B[38;5;241m1\u001B[39m)\n\u001B[1;32m      6\u001B[0m y\u001B[38;5;241m=\u001B[39mtorch\u001B[38;5;241m.\u001B[39mempty(\u001B[38;5;241m3\u001B[39m,\u001B[38;5;241m1\u001B[39m,\u001B[38;5;241m7\u001B[39m)\n\u001B[0;32m----> 7\u001B[0m \u001B[38;5;28mprint\u001B[39m((\u001B[43mx\u001B[49m\u001B[38;5;241;43m.\u001B[39;49m\u001B[43madd_\u001B[49m\u001B[43m(\u001B[49m\u001B[43my\u001B[49m\u001B[43m)\u001B[49m)\u001B[38;5;241m.\u001B[39msize())\n",
      "\u001B[0;31mRuntimeError\u001B[0m: output with shape [1, 3, 1] doesn't match the broadcast shape [3, 3, 7]"
     ]
    }
   ],
   "source": [
    "x=torch.empty(5,3,4,1)\n",
    "y=torch.empty(3,1,1)\n",
    "print((x.add_(y)).size())\n",
    "\n",
    "x=torch.empty(1,3,1)\n",
    "y=torch.empty(3,1,7)\n",
    "print((x.add_(y)).size())"
   ],
   "metadata": {
    "collapsed": false,
    "ExecuteTime": {
     "end_time": "2024-09-19T02:19:55.889442Z",
     "start_time": "2024-09-19T02:19:55.872058Z"
    }
   },
   "id": "301be4815c4d1b43"
  },
  {
   "cell_type": "markdown",
   "source": [
    "## Backwards compatibility 向后兼容性"
   ],
   "metadata": {
    "collapsed": false
   },
   "id": "cb4031c58afdfbf9"
  },
  {
   "cell_type": "markdown",
   "source": [
    "PyTorch 的早期版本允许在不同形状的张量上执行某些逐点函数，只要每个张量中的元素数量相等。然后通过将每个张量视为一维来执行逐点运算。 PyTorch 现在支持广播，并且“一维”逐点行为被视为已弃用，并且在张量不可广播但具有相同数量元素的情况下将生成 Python 警告。"
   ],
   "metadata": {
    "collapsed": false
   },
   "id": "9216ff7bf51f3a45"
  },
  {
   "cell_type": "markdown",
   "source": [
    "请注意，在两个张量不具有相同形状但可广播且元素数量相同的情况下，广播的引入可能会导致向后不兼容的更改。例如："
   ],
   "metadata": {
    "collapsed": false
   },
   "id": "d683d00e04586f2"
  },
  {
   "cell_type": "code",
   "execution_count": 4,
   "outputs": [
    {
     "name": "stdout",
     "output_type": "stream",
     "text": [
      "torch.Size([4, 1])\n",
      "torch.Size([4])\n"
     ]
    },
    {
     "data": {
      "text/plain": "tensor([[ 2.2196, -0.5307,  1.5837, -0.2263],\n        [ 2.2196, -0.5307,  1.5837, -0.2263],\n        [ 2.2196, -0.5307,  1.5837, -0.2263],\n        [ 2.2196, -0.5307,  1.5837, -0.2263]])"
     },
     "execution_count": 4,
     "metadata": {},
     "output_type": "execute_result"
    }
   ],
   "source": [
    "print(torch.ones(4,1).size())\n",
    "print(torch.randn(4).size())\n",
    "torch.add(torch.ones(4,1), torch.randn(4))"
   ],
   "metadata": {
    "collapsed": false,
    "ExecuteTime": {
     "end_time": "2024-09-19T02:20:00.275301Z",
     "start_time": "2024-09-19T02:20:00.260153Z"
    }
   },
   "id": "e980a9b9bf88fc76"
  },
  {
   "cell_type": "code",
   "execution_count": 5,
   "outputs": [
    {
     "data": {
      "text/plain": "tensor([[0.2663],\n        [0.2663],\n        [0.2663],\n        [0.2663]])"
     },
     "execution_count": 5,
     "metadata": {},
     "output_type": "execute_result"
    }
   ],
   "source": [
    "torch.add(torch.ones(4,1), torch.randn( 1))"
   ],
   "metadata": {
    "collapsed": false,
    "ExecuteTime": {
     "end_time": "2024-09-19T02:20:01.139416Z",
     "start_time": "2024-09-19T02:20:01.122260Z"
    }
   },
   "id": "b13417247dd56361"
  },
  {
   "cell_type": "markdown",
   "source": [
    "以前会生成大小为 `torch.Size([4,1])` 的张量，但现在生成大小为 `torch.Size([4,4])` 的张量。为了帮助识别代码中可能存在广播引入的向后不兼容性的情况，您可以将`torch.utils.backcompat.broadcast_warning.enabled`设置为`True` ，这将在这种情况下生成 `python` 警告。"
   ],
   "metadata": {
    "collapsed": false
   },
   "id": "77a0b4fab6c7d2fc"
  },
  {
   "cell_type": "markdown",
   "source": [
    "例如："
   ],
   "metadata": {
    "collapsed": false
   },
   "id": "6ed8a4db2f2d0008"
  },
  {
   "cell_type": "code",
   "execution_count": 6,
   "outputs": [
    {
     "data": {
      "text/plain": "tensor([[2., 2., 2., 2.],\n        [2., 2., 2., 2.],\n        [2., 2., 2., 2.],\n        [2., 2., 2., 2.]])"
     },
     "execution_count": 6,
     "metadata": {},
     "output_type": "execute_result"
    }
   ],
   "source": [
    "torch.utils.backcompat.broadcast_warning.enabled=True\n",
    "torch.add(torch.ones(4,1), torch.ones(4))"
   ],
   "metadata": {
    "collapsed": false,
    "ExecuteTime": {
     "end_time": "2024-09-19T02:20:04.079561Z",
     "start_time": "2024-09-19T02:20:04.068381Z"
    }
   },
   "id": "6ac99207589ccfdd"
  }
 ],
 "metadata": {
  "kernelspec": {
   "name": "pytorch",
   "language": "python",
   "display_name": "pytorch"
  },
  "language_info": {
   "codemirror_mode": {
    "name": "ipython",
    "version": 2
   },
   "file_extension": ".py",
   "mimetype": "text/x-python",
   "name": "python",
   "nbconvert_exporter": "python",
   "pygments_lexer": "ipython2",
   "version": "2.7.6"
  }
 },
 "nbformat": 4,
 "nbformat_minor": 5
}
