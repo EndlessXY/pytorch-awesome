{
 "cells": [
  {
   "cell_type": "markdown",
   "metadata": {},
   "source": [
    "# Optimizing Model Parameters 优化模型参数"
   ]
  },
  {
   "cell_type": "markdown",
   "metadata": {},
   "source": [
    "现在我们有了模型和数据，是时候通过优化数据上的参数来训练、验证和测试我们的模型了。训练模型是一个迭代过程；在每次迭代中，模型都会对输出进行猜测，计算其猜测中的误差（损失），收集误差相对于其参数的导数，并使用梯度下降优化这些参数。有关此过程的更详细演练，请观看[3Blue1Brown的有关反向传播的视频](https://www.youtube.com/watch?v=tIeHLnjs5U8)。"
   ]
  },
  {
   "cell_type": "markdown",
   "metadata": {},
   "source": [
    "## Prerequisite Code"
   ]
  },
  {
   "cell_type": "code",
   "execution_count": 1,
   "metadata": {},
   "outputs": [],
   "source": [
    "import os\n",
    "import torch\n",
    "from torch import nn\n",
    "from torch.utils.data import DataLoader\n",
    "from torchvision import datasets\n",
    "from torchvision.transforms import ToTensor\n",
    "\n",
    "data_path = os.path.expanduser(\"~/Data/Vision/FashionMNIST\")\n",
    "\n",
    "training_data = datasets.FashionMNIST(\n",
    "    root=data_path,\n",
    "    train=True,\n",
    "    download=True,\n",
    "    transform=ToTensor()\n",
    ")\n",
    "\n",
    "test_data = datasets.FashionMNIST(\n",
    "    root=data_path,\n",
    "    train=False,\n",
    "    download=True,\n",
    "    transform=ToTensor()\n",
    ")\n",
    "\n",
    "train_dataloader = DataLoader(training_data, batch_size=64)\n",
    "test_dataloader = DataLoader(test_data, batch_size=64)\n",
    "\n",
    "class NeuralNetwork(nn.Module):\n",
    "    def __init__(self):\n",
    "        super().__init__()\n",
    "        self.flatten = nn.Flatten()\n",
    "        self.linear_relu_stack = nn.Sequential(\n",
    "            nn.Linear(28*28, 512),\n",
    "            nn.ReLU(),\n",
    "            nn.Linear(512, 512),\n",
    "            nn.ReLU(),\n",
    "            nn.Linear(512, 10),\n",
    "        )\n",
    "\n",
    "    def forward(self, x):\n",
    "        x = self.flatten(x)\n",
    "        logits = self.linear_relu_stack(x)\n",
    "        return logits\n",
    "\n",
    "model = NeuralNetwork()"
   ]
  },
  {
   "cell_type": "markdown",
   "metadata": {},
   "source": [
    "## Hyperparameters 超参数"
   ]
  },
  {
   "cell_type": "markdown",
   "metadata": {},
   "source": [
    "超参数是可调整的参数，可让您控制模型优化过程。不同的超参数值会影响模型训练和收敛速度（[阅读有关超参数调整的更多信息](https://pytorch.org/tutorials/beginner/hyperparameter_tuning_tutorial.html)）"
   ]
  },
  {
   "cell_type": "markdown",
   "metadata": {},
   "source": [
    "定义以下训练超参数:\n",
    "- Number of Epochs - 迭代数据集的次数\n",
    "- Batch Size - 参数更新之前通过网络传播的数据样本数量\n",
    "- Learning Rate - 每个批次/时期更新模型参数的量。较小的值会导致学习速度较慢，而较大的值可能会导致训练期间出现不可预测的行为。"
   ]
  },
  {
   "cell_type": "code",
   "execution_count": 2,
   "metadata": {},
   "outputs": [],
   "source": [
    "learning_rate = 1e-3\n",
    "batch_size = 64\n",
    "epochs = 5"
   ]
  },
  {
   "cell_type": "markdown",
   "metadata": {},
   "source": [
    "## Optimization Loop 优化循环"
   ]
  },
  {
   "cell_type": "markdown",
   "metadata": {},
   "source": [
    "一旦我们设置了超参数，我们就可以使用优化循环来训练和优化我们的模型。优化循环的每次迭代称为一个`epoch`。"
   ]
  },
  {
   "cell_type": "markdown",
   "metadata": {},
   "source": [
    "每个epoch由两个主要部分组成：\n",
    "- The Train Loop 训练循环- 迭代训练数据集并尝试收敛到最佳参数。\n",
    "- The Validation/Test Loop 验证/测试循环- 迭代测试数据集以检查模型性能是否有所改善。"
   ]
  },
  {
   "cell_type": "markdown",
   "metadata": {},
   "source": [
    "## Loss Function 损失函数"
   ]
  },
  {
   "cell_type": "markdown",
   "metadata": {},
   "source": [
    "当提供一些训练数据时，我们未经训练的网络可能不会给出正确的答案。损失函数衡量的是得到的结果与目标值的不相似程度，这就是我们在训练时想要最小化的损失函数。为了计算损失，我们使用给定数据样本的输入进行预测，并将其与真实数据标签值进行比较。"
   ]
  },
  {
   "cell_type": "markdown",
   "metadata": {},
   "source": [
    "常见的损失函数包括用于回归任务的[`nn.MSELoss`](https://pytorch.org/docs/stable/generated/torch.nn.MSELoss.html#torch.nn.MSELoss)（均方误差）和用于分类的[`nn.NLLLoss`](https://pytorch.org/docs/stable/generated/torch.nn.NLLLoss.html#torch.nn.NLLLoss)（负对数似然）。[`nn.CrossEntropyLoss`](https://pytorch.org/docs/stable/generated/torch.nn.CrossEntropyLoss.html#torch.nn.CrossEntropyLoss)结合了`nn.LogSoftmax`和`nn.NLLLoss`。"
   ]
  },
  {
   "cell_type": "markdown",
   "metadata": {},
   "source": [
    "我们将模型的输出`logits`传递给`nn.CrossEntropyLoss`，这将标准化`logits`并计算预测误差。"
   ]
  },
  {
   "cell_type": "code",
   "execution_count": 3,
   "metadata": {},
   "outputs": [],
   "source": [
    "# Initialize the loss function\n",
    "loss_fn = nn.CrossEntropyLoss()"
   ]
  },
  {
   "cell_type": "markdown",
   "metadata": {},
   "source": [
    "## Optimizer 优化器"
   ]
  },
  {
   "cell_type": "markdown",
   "metadata": {},
   "source": [
    "优化是调整模型参数以减少每个训练步骤中模型误差的过程。优化算法定义了如何执行此过程（在本例中我们使用随机梯度下降）。所有优化逻辑都封装在`optimizer`对象中。这里，我们使用SGD优化器；此外，PyTorch中还有[许多不同的优化器](https://pytorch.org/docs/stable/optim.html)，例如 ADAM 和 RMSProp，它们可以更好地处理不同类型的模型和数据。"
   ]
  },
  {
   "cell_type": "markdown",
   "metadata": {},
   "source": [
    "我们通过注册需要训练的模型参数并传入学习率超参数来初始化优化器。"
   ]
  },
  {
   "cell_type": "code",
   "execution_count": 4,
   "metadata": {},
   "outputs": [],
   "source": [
    "optimizer = torch.optim.SGD(model.parameters(), lr=learning_rate)"
   ]
  },
  {
   "cell_type": "markdown",
   "metadata": {},
   "source": [
    "在训练循环中，优化分三个步骤进行：\n",
    "- 调用`optimizer.zero_grad()`重置模型参数的梯度。默认情况下渐变相加；为了防止重复计算，我们在每次迭代时明确地将它们归零。\n",
    "- 通过调用l`oss.backward()`反向传播预测损失。 PyTorch 存储每个参数的损失梯度。\n",
    "- 一旦我们得到了梯度，我们就调用`optimizer.step()`来通过向后传递中收集的梯度来调整参数。"
   ]
  },
  {
   "cell_type": "markdown",
   "metadata": {},
   "source": [
    "## Full Implementation 完整实现"
   ]
  },
  {
   "cell_type": "markdown",
   "metadata": {},
   "source": [
    "我们定义了循环优化代码的`train_loop`和根据测试数据评估模型性能的`test_loop`。"
   ]
  },
  {
   "cell_type": "code",
   "execution_count": 5,
   "metadata": {},
   "outputs": [],
   "source": [
    "def train_loop(dataloader, model, loss_fn, optimizer):\n",
    "    size = len(dataloader.dataset)\n",
    "    # Set the model to training mode - important for batch normalization and dropout layers\n",
    "    # Unnecessary in this situation but added for best practices\n",
    "    model.train()\n",
    "    for batch, (X, y) in enumerate(dataloader):\n",
    "        # Compute prediction and loss\n",
    "        pred = model(X)\n",
    "        loss = loss_fn(pred, y)\n",
    "\n",
    "        # Backpropagation\n",
    "        loss.backward()\n",
    "        optimizer.step()\n",
    "        optimizer.zero_grad()\n",
    "\n",
    "        if batch % 100 == 0:\n",
    "            loss, current = loss.item(), batch * batch_size + len(X)\n",
    "            print(f\"loss: {loss:>7f}  [{current:>5d}/{size:>5d}]\")\n",
    "\n",
    "\n",
    "def test_loop(dataloader, model, loss_fn):\n",
    "    # Set the model to evaluation mode - important for batch normalization and dropout layers\n",
    "    # Unnecessary in this situation but added for best practices\n",
    "    model.eval()\n",
    "    size = len(dataloader.dataset)\n",
    "    num_batches = len(dataloader)\n",
    "    test_loss, correct = 0, 0\n",
    "\n",
    "    # Evaluating the model with torch.no_grad() ensures that no gradients are computed during test mode\n",
    "    # also serves to reduce unnecessary gradient computations and memory usage for tensors with requires_grad=True\n",
    "    with torch.no_grad():\n",
    "        for X, y in dataloader:\n",
    "            pred = model(X)\n",
    "            test_loss += loss_fn(pred, y).item()\n",
    "            correct += (pred.argmax(1) == y).type(torch.float).sum().item()\n",
    "\n",
    "    test_loss /= num_batches\n",
    "    correct /= size\n",
    "    print(f\"Test Error: \\n Accuracy: {(100*correct):>0.1f}%, Avg loss: {test_loss:>8f} \\n\")"
   ]
  },
  {
   "cell_type": "markdown",
   "metadata": {},
   "source": [
    "我们初始化损失函数和优化器，并将其传递给`train_loop`和`test_loop` 。请随意增加纪元数来跟踪模型改进的性能。"
   ]
  },
  {
   "cell_type": "code",
   "execution_count": 6,
   "metadata": {},
   "outputs": [
    {
     "name": "stdout",
     "output_type": "stream",
     "text": [
      "Epoch 1\n",
      "-------------------------------\n",
      "loss: 2.301126  [   64/60000]\n",
      "loss: 2.287323  [ 6464/60000]\n",
      "loss: 2.274250  [12864/60000]\n",
      "loss: 2.264848  [19264/60000]\n",
      "loss: 2.258680  [25664/60000]\n",
      "loss: 2.231854  [32064/60000]\n",
      "loss: 2.226885  [38464/60000]\n",
      "loss: 2.201016  [44864/60000]\n",
      "loss: 2.197747  [51264/60000]\n",
      "loss: 2.164870  [57664/60000]\n",
      "Test Error: \n",
      " Accuracy: 54.0%, Avg loss: 2.159320 \n",
      "\n",
      "Epoch 2\n",
      "-------------------------------\n",
      "loss: 2.174354  [   64/60000]\n",
      "loss: 2.159337  [ 6464/60000]\n",
      "loss: 2.109076  [12864/60000]\n",
      "loss: 2.111756  [19264/60000]\n",
      "loss: 2.080141  [25664/60000]\n",
      "loss: 2.023003  [32064/60000]\n",
      "loss: 2.036351  [38464/60000]\n",
      "loss: 1.964800  [44864/60000]\n",
      "loss: 1.973219  [51264/60000]\n",
      "loss: 1.898188  [57664/60000]\n",
      "Test Error: \n",
      " Accuracy: 57.4%, Avg loss: 1.894717 \n",
      "\n",
      "Epoch 3\n",
      "-------------------------------\n",
      "loss: 1.935260  [   64/60000]\n",
      "loss: 1.900741  [ 6464/60000]\n",
      "loss: 1.785873  [12864/60000]\n",
      "loss: 1.810556  [19264/60000]\n",
      "loss: 1.726561  [25664/60000]\n",
      "loss: 1.669897  [32064/60000]\n",
      "loss: 1.683351  [38464/60000]\n",
      "loss: 1.582160  [44864/60000]\n",
      "loss: 1.618012  [51264/60000]\n",
      "loss: 1.509408  [57664/60000]\n",
      "Test Error: \n",
      " Accuracy: 59.9%, Avg loss: 1.522716 \n",
      "\n",
      "Epoch 4\n",
      "-------------------------------\n",
      "loss: 1.594858  [   64/60000]\n",
      "loss: 1.557994  [ 6464/60000]\n",
      "loss: 1.405908  [12864/60000]\n",
      "loss: 1.468878  [19264/60000]\n",
      "loss: 1.372624  [25664/60000]\n",
      "loss: 1.356084  [32064/60000]\n",
      "loss: 1.371250  [38464/60000]\n",
      "loss: 1.287360  [44864/60000]\n",
      "loss: 1.337953  [51264/60000]\n",
      "loss: 1.235324  [57664/60000]\n",
      "Test Error: \n",
      " Accuracy: 63.0%, Avg loss: 1.256302 \n",
      "\n",
      "Epoch 5\n",
      "-------------------------------\n",
      "loss: 1.337102  [   64/60000]\n",
      "loss: 1.318329  [ 6464/60000]\n",
      "loss: 1.151948  [12864/60000]\n",
      "loss: 1.248294  [19264/60000]\n",
      "loss: 1.142999  [25664/60000]\n",
      "loss: 1.159647  [32064/60000]\n",
      "loss: 1.182128  [38464/60000]\n",
      "loss: 1.107414  [44864/60000]\n",
      "loss: 1.163198  [51264/60000]\n",
      "loss: 1.075534  [57664/60000]\n",
      "Test Error: \n",
      " Accuracy: 64.5%, Avg loss: 1.091902 \n",
      "\n",
      "Epoch 6\n",
      "-------------------------------\n",
      "loss: 1.166146  [   64/60000]\n",
      "loss: 1.167697  [ 6464/60000]\n",
      "loss: 0.986536  [12864/60000]\n",
      "loss: 1.110195  [19264/60000]\n",
      "loss: 0.999938  [25664/60000]\n",
      "loss: 1.027601  [32064/60000]\n",
      "loss: 1.063394  [38464/60000]\n",
      "loss: 0.992250  [44864/60000]\n",
      "loss: 1.050020  [51264/60000]\n",
      "loss: 0.973956  [57664/60000]\n",
      "Test Error: \n",
      " Accuracy: 65.6%, Avg loss: 0.985331 \n",
      "\n",
      "Epoch 7\n",
      "-------------------------------\n",
      "loss: 1.047233  [   64/60000]\n",
      "loss: 1.069828  [ 6464/60000]\n",
      "loss: 0.873003  [12864/60000]\n",
      "loss: 1.017888  [19264/60000]\n",
      "loss: 0.909158  [25664/60000]\n",
      "loss: 0.933553  [32064/60000]\n",
      "loss: 0.984714  [38464/60000]\n",
      "loss: 0.916561  [44864/60000]\n",
      "loss: 0.971648  [51264/60000]\n",
      "loss: 0.905117  [57664/60000]\n",
      "Test Error: \n",
      " Accuracy: 66.7%, Avg loss: 0.912378 \n",
      "\n",
      "Epoch 8\n",
      "-------------------------------\n",
      "loss: 0.959953  [   64/60000]\n",
      "loss: 1.001736  [ 6464/60000]\n",
      "loss: 0.791252  [12864/60000]\n",
      "loss: 0.952355  [19264/60000]\n",
      "loss: 0.847740  [25664/60000]\n",
      "loss: 0.864436  [32064/60000]\n",
      "loss: 0.929104  [38464/60000]\n",
      "loss: 0.864877  [44864/60000]\n",
      "loss: 0.915007  [51264/60000]\n",
      "loss: 0.855488  [57664/60000]\n",
      "Test Error: \n",
      " Accuracy: 67.9%, Avg loss: 0.859682 \n",
      "\n",
      "Epoch 9\n",
      "-------------------------------\n",
      "loss: 0.892756  [   64/60000]\n",
      "loss: 0.950680  [ 6464/60000]\n",
      "loss: 0.729480  [12864/60000]\n",
      "loss: 0.903583  [19264/60000]\n",
      "loss: 0.803965  [25664/60000]\n",
      "loss: 0.812178  [32064/60000]\n",
      "loss: 0.886990  [38464/60000]\n",
      "loss: 0.828366  [44864/60000]\n",
      "loss: 0.872480  [51264/60000]\n",
      "loss: 0.817569  [57664/60000]\n",
      "Test Error: \n",
      " Accuracy: 69.4%, Avg loss: 0.819729 \n",
      "\n",
      "Epoch 10\n",
      "-------------------------------\n",
      "loss: 0.839062  [   64/60000]\n",
      "loss: 0.909813  [ 6464/60000]\n",
      "loss: 0.681219  [12864/60000]\n",
      "loss: 0.866054  [19264/60000]\n",
      "loss: 0.770560  [25664/60000]\n",
      "loss: 0.771950  [32064/60000]\n",
      "loss: 0.852877  [38464/60000]\n",
      "loss: 0.801287  [44864/60000]\n",
      "loss: 0.839366  [51264/60000]\n",
      "loss: 0.787283  [57664/60000]\n",
      "Test Error: \n",
      " Accuracy: 70.4%, Avg loss: 0.788052 \n",
      "\n",
      "Done!\n"
     ]
    }
   ],
   "source": [
    "loss_fn = nn.CrossEntropyLoss()\n",
    "optimizer = torch.optim.SGD(model.parameters(), lr=learning_rate)\n",
    "\n",
    "epochs = 10\n",
    "for t in range(epochs):\n",
    "    print(f\"Epoch {t+1}\\n-------------------------------\")\n",
    "    train_loop(train_dataloader, model, loss_fn, optimizer)\n",
    "    test_loop(test_dataloader, model, loss_fn)\n",
    "print(\"Done!\")"
   ]
  }
 ],
 "metadata": {
  "kernelspec": {
   "display_name": "pytorch",
   "language": "python",
   "name": "pytorch"
  },
  "language_info": {
   "codemirror_mode": {
    "name": "ipython",
    "version": 3
   },
   "file_extension": ".py",
   "mimetype": "text/x-python",
   "name": "python",
   "nbconvert_exporter": "python",
   "pygments_lexer": "ipython3",
   "version": "3.10.13"
  }
 },
 "nbformat": 4,
 "nbformat_minor": 2
}
