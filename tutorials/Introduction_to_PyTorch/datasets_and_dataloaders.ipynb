{
 "cells": [
  {
   "cell_type": "markdown",
   "id": "7333e61fffd0c973",
   "metadata": {
    "collapsed": false
   },
   "source": [
    "# Datasets & DataLoaders 数据集和数据加载器"
   ]
  },
  {
   "cell_type": "markdown",
   "id": "8b1ff46da8d35ec6",
   "metadata": {
    "collapsed": false
   },
   "source": [
    "用于处理数据样本的代码可能会变得混乱且难以维护；理想情况下，我们希望数据集代码与模型训练代码分离，以获得更好的可读性和模块化性。 PyTorch 提供了两个数据原语： `torch.utils.data.DataLoader`和`torch.utils.data.Dataset` ，允许您使用预加载的数据集以及您自己的数据。 `Dataset`存储样本及其相应的标签， `DataLoader`围绕`Dataset`包装一个可迭代对象，以便轻松访问样本。"
   ]
  },
  {
   "cell_type": "markdown",
   "id": "fe00f91c5a6cde88",
   "metadata": {
    "collapsed": false
   },
   "source": [
    "PyTorch 域库提供了许多预加载的数据集（例如 FashionMNIST），它们是torch.utils.data.Dataset的子类并实现特定于特定数据的函数。它们可用于对您的模型进行原型设计和基准测试。您可以在这里找到它们：[图像数据集](https://pytorch.org/vision/stable/datasets.html)、[文本数据集](https://pytorch.org/text/stable/datasets.html)和[音频数据集](https://pytorch.org/audio/stable/datasets.html)"
   ]
  },
  {
   "cell_type": "markdown",
   "id": "8907ebe380e7c70d",
   "metadata": {
    "collapsed": false
   },
   "source": [
    "## Loading a Dataset 加载数据集"
   ]
  },
  {
   "cell_type": "markdown",
   "id": "ebe14c9abac60902",
   "metadata": {
    "collapsed": false
   },
   "source": [
    "以下是如何从 TorchVision 加载[Fashion-MNIST](https://github.com/zalandoresearch/fashion-mnist)数据集的示例。 Fashion-MNIST 是 Zalando 文章图像的数据集，由 60,000 个训练示例和 10,000 个测试示例组成。每个示例包含一个 28×28 灰度图像和来自 10 个类别之一的关联标签。"
   ]
  },
  {
   "cell_type": "markdown",
   "id": "d1d8eee7ff6b9d40",
   "metadata": {
    "collapsed": false
   },
   "source": [
    "我们使用以下参数加载FashionMNIST数据集：\n",
    "- `root` 是存储数据的路径。\n",
    "- `train` 指定训练数据集还是测试数据集。\n",
    "- `download=True` 如果数据集在 root 中不存在，则设置为 True，以下载数据集。\n",
    "- `transform` 和 `target_transform` 指定特征和标签的预处理函数。"
   ]
  },
  {
   "cell_type": "code",
   "execution_count": 2,
   "id": "3484ef4bec3a052",
   "metadata": {
    "ExecuteTime": {
     "end_time": "2024-09-19T02:57:32.875105Z",
     "start_time": "2024-09-19T02:57:18.846823Z"
    },
    "collapsed": false
   },
   "outputs": [],
   "source": [
    "import os\n",
    "import torch\n",
    "from torch.utils.data import Dataset\n",
    "from torchvision import datasets\n",
    "from torchvision.transforms import ToTensor\n",
    "import matplotlib.pyplot as plt\n",
    "\n",
    "data_path = os.path.expanduser(\"~/Data/Vision/FashionMNIST\")\n",
    "\n",
    "training_data = datasets.FashionMNIST(\n",
    "    root=data_path,\n",
    "    train=True,\n",
    "    download=True,\n",
    "    transform=ToTensor()\n",
    ")\n",
    "\n",
    "test_data = datasets.FashionMNIST(\n",
    "    root=data_path,\n",
    "    train=False,\n",
    "    download=True,\n",
    "    transform=ToTensor()\n",
    ")"
   ]
  },
  {
   "cell_type": "markdown",
   "id": "90f94c08280839be",
   "metadata": {
    "collapsed": false
   },
   "source": [
    "## Iterating and Visualizing the Dataset 迭代和可视化数据集"
   ]
  },
  {
   "cell_type": "markdown",
   "id": "f98584c2070752bd",
   "metadata": {
    "collapsed": false
   },
   "source": [
    "我们可以像列表一样手动索引Datasets集：`training_data[index]`。我们使用`matplotlib`来可视化训练数据中的一些样本。"
   ]
  },
  {
   "cell_type": "code",
   "execution_count": 3,
   "id": "4ddf982eaf0db404",
   "metadata": {
    "ExecuteTime": {
     "end_time": "2024-09-19T03:24:45.417463Z",
     "start_time": "2024-09-19T03:24:45.158899Z"
    },
    "collapsed": false
   },
   "outputs": [
    {
     "data": {
      "image/png": "[encoded data removed]",
      "text/plain": [
       "<Figure size 800x800 with 9 Axes>"
      ]
     },
     "metadata": {},
     "output_type": "display_data"
    }
   ],
   "source": [
    "labels_map = {\n",
    "    0: \"T-Shirt\",\n",
    "    1: \"Trouser\",\n",
    "    2: \"Pullover\",\n",
    "    3: \"Dress\",\n",
    "    4: \"Coat\",\n",
    "    5: \"Sandal\",\n",
    "    6: \"Shirt\",\n",
    "    7: \"Sneaker\",\n",
    "    8: \"Bag\",\n",
    "    9: \"Ankle Boot\",\n",
    "}\n",
    "figure = plt.figure(figsize=(8, 8))\n",
    "cols, rows = 3, 3\n",
    "for i in range(1, cols * rows + 1):\n",
    "    sample_idx = torch.randint(len(training_data), size=(1,)).item()\n",
    "    img, label = training_data[sample_idx]\n",
    "    figure.add_subplot(rows, cols, i)\n",
    "    plt.title(labels_map[label])\n",
    "    plt.axis(\"off\")\n",
    "    plt.imshow(img.squeeze(), cmap=\"gray\")\n",
    "plt.show()"
   ]
  },
  {
   "cell_type": "markdown",
   "id": "c76c4e600893399e",
   "metadata": {
    "collapsed": false
   },
   "source": [
    "## Creating a Custom Dataset for your files 为您的文件创建自定义数据集"
   ]
  },
  {
   "cell_type": "markdown",
   "id": "fd0cde494c5b8108",
   "metadata": {
    "collapsed": false
   },
   "source": [
    "自定义`Dataset`类必须实现三个函数： `__init__` 、 `__len__` 和 `__getitem__` 。看看这个实现； FashionMNIST 图像存储在目录`img_dir`中，它们的标签单独存储在 `CSV` 文件a`nnotations_file`中。"
   ]
  },
  {
   "cell_type": "code",
   "execution_count": 4,
   "id": "741d06ec",
   "metadata": {},
   "outputs": [],
   "source": [
    "import os\n",
    "import pandas as pd\n",
    "from torchvision.io import read_image\n",
    "\n",
    "class CustomImageDataset(Dataset):\n",
    "    def __init__(self, annotations_file, img_dir, transform=None, target_transform=None):\n",
    "        self.img_labels = pd.read_csv(annotations_file)\n",
    "        self.img_dir = img_dir\n",
    "        self.transform = transform\n",
    "        self.target_transform = target_transform\n",
    "\n",
    "    def __len__(self):\n",
    "        return len(self.img_labels)\n",
    "\n",
    "    def __getitem__(self, idx):\n",
    "        img_path = os.path.join(self.img_dir, self.img_labels.iloc[idx, 0])\n",
    "        image = read_image(img_path)\n",
    "        label = self.img_labels.iloc[idx, 1]\n",
    "        if self.transform:\n",
    "            image = self.transform(image)\n",
    "        if self.target_transform:\n",
    "            label = self.target_transform(label)\n",
    "        return image, label"
   ]
  },
  {
   "cell_type": "markdown",
   "id": "ccbd0a3e",
   "metadata": {},
   "source": [
    "### `__init__`"
   ]
  },
  {
   "cell_type": "markdown",
   "id": "3fb32a41",
   "metadata": {},
   "source": [
    "`__init__` 函数在实例化 `Dataset` 对象时运行一次。我们初始化包含图像、标注文件的目录和两种转换方法"
   ]
  },
  {
   "cell_type": "markdown",
   "id": "7a7979bd",
   "metadata": {},
   "source": [
    "labels.csv 文件如下所示"
   ]
  },
  {
   "cell_type": "markdown",
   "id": "724436f2",
   "metadata": {},
   "source": [
    "```text\n",
    "tshirt1.jpg, 0\n",
    "tshirt2.jpg, 0\n",
    "......\n",
    "ankleboot999.jpg, 9\n",
    "```"
   ]
  },
  {
   "cell_type": "code",
   "execution_count": 5,
   "id": "f5d60c46",
   "metadata": {},
   "outputs": [],
   "source": [
    "def __init__(self, annotations_file, img_dir, transform=None, target_transform=None):\n",
    "    self.img_labels = pd.read_csv(annotations_file)\n",
    "    self.img_dir = img_dir\n",
    "    self.transform = transform\n",
    "    self.target_transform = target_transform"
   ]
  },
  {
   "cell_type": "markdown",
   "id": "f79d8fd5",
   "metadata": {},
   "source": [
    "### `__len__`"
   ]
  },
  {
   "cell_type": "markdown",
   "id": "70943aa3",
   "metadata": {},
   "source": [
    "·__len__ `函数返回数据集中的样本数。"
   ]
  },
  {
   "cell_type": "code",
   "execution_count": 6,
   "id": "f803ba6f",
   "metadata": {},
   "outputs": [],
   "source": [
    "def __len__(self):\n",
    "    return len(self.img_labels)"
   ]
  },
  {
   "cell_type": "markdown",
   "id": "16813862",
   "metadata": {},
   "source": [
    "### `__getitem__`"
   ]
  },
  {
   "cell_type": "markdown",
   "id": "f1eb8458",
   "metadata": {},
   "source": [
    "`__getitem__` 函数加载并返回给定索引`idx`处的数据集的样本。基于索引，它识别图像在磁盘上的位置，使用`read_image`将其转换为张量，从`self.img_labels`中的 `csv` 数据中检索相应的标签，调用它们的转换函数（如果适用），然后返回张量图像以及元组中相应的标签。"
   ]
  },
  {
   "cell_type": "code",
   "execution_count": 7,
   "id": "3ab0ab07",
   "metadata": {},
   "outputs": [],
   "source": [
    "def __getitem__(self, idx):\n",
    "    img_path = os.path.join(self.img_dir, self.img_labels.iloc[idx, 0])\n",
    "    image = read_image(img_path)\n",
    "    label = self.img_labels.iloc[idx, 1]\n",
    "    if self.transform:\n",
    "        image = self.transform(image)\n",
    "    if self.target_transform:\n",
    "        label = self.target_transform(label)\n",
    "    return image, label"
   ]
  },
  {
   "cell_type": "markdown",
   "id": "13df462a",
   "metadata": {},
   "source": [
    "## Preparing your data for training with DataLoaders 使用 DataLoaders 准备数据以进行训练"
   ]
  },
  {
   "cell_type": "markdown",
   "id": "d4cde856",
   "metadata": {},
   "source": [
    "`Dataset`检索数据集的特征并一次标记一个样本。在训练模型时，我们通常希望以“小批量”方式传递样本，在每个时期重新整理数据以减少模型过度拟合，并使用 `Python` 的`multiprocessing`来加速数据检索。"
   ]
  },
  {
   "cell_type": "markdown",
   "id": "b1cad95e",
   "metadata": {},
   "source": [
    "`DataLoader`是一个可迭代对象，它通过一个简单的 API 为我们抽象了这种复杂性。"
   ]
  },
  {
   "cell_type": "code",
   "execution_count": 8,
   "id": "c2ae5e47",
   "metadata": {},
   "outputs": [],
   "source": [
    "from torch.utils.data import DataLoader\n",
    "\n",
    "train_dataloader = DataLoader(training_data, batch_size=64, shuffle=True)\n",
    "test_dataloader = DataLoader(test_data, batch_size=64, shuffle=True)"
   ]
  },
  {
   "cell_type": "markdown",
   "id": "0419b802",
   "metadata": {},
   "source": [
    "## Iterate through the DataLoader 遍历 DataLoader"
   ]
  },
  {
   "cell_type": "markdown",
   "id": "a1814d8b",
   "metadata": {},
   "source": [
    "我们已将该数据集加载到`DataLoader`中，并且可以根据需要迭代数据集。下面的每次迭代都会返回一批`train_features`和`train_labels` （分别包含`batch_size=64`特征和标签）。因为我们指定了`shuffle=True` ，所以在迭代所有批次后，数据将被打乱（为了更细粒度地控制数据加载顺序，请查看[Samplers](https://pytorch.org/docs/stable/data.html#data-loading-order-and-sampler) ）。"
   ]
  },
  {
   "cell_type": "code",
   "execution_count": 9,
   "id": "44d95b0c",
   "metadata": {},
   "outputs": [
    {
     "name": "stdout",
     "output_type": "stream",
     "text": [
      "Feature batch shape: torch.Size([64, 1, 28, 28])\n",
      "Labels batch shape: torch.Size([64])\n"
     ]
    },
    {
     "data": {
      "image/png": "[encoded data removed]",
      "text/plain": [
       "<Figure size 640x480 with 1 Axes>"
      ]
     },
     "metadata": {},
     "output_type": "display_data"
    },
    {
     "name": "stdout",
     "output_type": "stream",
     "text": [
      "Label: 8\n"
     ]
    }
   ],
   "source": [
    "# Display image and label.\n",
    "train_features, train_labels = next(iter(train_dataloader))\n",
    "print(f\"Feature batch shape: {train_features.size()}\")\n",
    "print(f\"Labels batch shape: {train_labels.size()}\")\n",
    "img = train_features[0].squeeze()\n",
    "label = train_labels[0]\n",
    "plt.imshow(img, cmap=\"gray\")\n",
    "plt.show()\n",
    "print(f\"Label: {label}\")"
   ]
  }
 ],
 "metadata": {
  "kernelspec": {
   "display_name": "Python 3",
   "language": "python",
   "name": "python3"
  },
  "language_info": {
   "codemirror_mode": {
    "name": "ipython",
    "version": 3
   },
   "file_extension": ".py",
   "mimetype": "text/x-python",
   "name": "python",
   "nbconvert_exporter": "python",
   "pygments_lexer": "ipython3",
   "version": "3.10.13"
  }
 },
 "nbformat": 4,
 "nbformat_minor": 5
}
