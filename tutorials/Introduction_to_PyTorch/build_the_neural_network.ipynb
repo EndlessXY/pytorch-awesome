{
 "cells": [
  {
   "cell_type": "markdown",
   "metadata": {},
   "source": [
    "# Build the Neural Network 构建神经网络"
   ]
  },
  {
   "cell_type": "markdown",
   "metadata": {},
   "source": [
    "神经网络由对数据执行操作的层/模块组成。 [torch.nn](https://pytorch.org/docs/stable/nn.html)命名空间提供了构建您自己的神经网络所需的所有构建块。 PyTorch 中的每个模块都是(nn.Module)[https://pytorch.org/docs/stable/generated/torch.nn.Module.html]的子类。神经网络本身就是一个模块，由其他模块（层）组成。这种嵌套结构允许轻松构建和管理复杂的架构。"
   ]
  },
  {
   "cell_type": "markdown",
   "metadata": {},
   "source": [
    "在以下部分中，我们将构建一个神经网络来对 `FashionMNIST` 数据集中的图像进行分类。"
   ]
  },
  {
   "cell_type": "code",
   "execution_count": 1,
   "metadata": {},
   "outputs": [],
   "source": [
    "import os\n",
    "import torch\n",
    "from torch import nn\n",
    "from torch.utils.data import DataLoader\n",
    "from torchvision import datasets, transforms"
   ]
  },
  {
   "cell_type": "markdown",
   "metadata": {},
   "source": [
    "## Get Device for Training 获取训练设备"
   ]
  },
  {
   "cell_type": "markdown",
   "metadata": {},
   "source": [
    "我们希望能够在 GPU 或 MPS 等硬件加速器（如果可用）上训练我们的模型。让我们检查一下[torch.cuda](https://pytorch.org/docs/stable/notes/cuda.html)或(torch.backends.mps)[https://pytorch.org/docs/stable/notes/mps.html]是否可用，否则我们使用 CPU。"
   ]
  },
  {
   "cell_type": "code",
   "execution_count": 2,
   "metadata": {},
   "outputs": [
    {
     "name": "stdout",
     "output_type": "stream",
     "text": [
      "Using mps device\n"
     ]
    }
   ],
   "source": [
    "device = (\n",
    "    \"cuda\"\n",
    "    if torch.cuda.is_available()\n",
    "    else \"mps\"\n",
    "    if torch.backends.mps.is_available()\n",
    "    else \"cpu\"\n",
    ")\n",
    "print(f\"Using {device} device\")"
   ]
  },
  {
   "cell_type": "markdown",
   "metadata": {},
   "source": [
    "## Define the Class 定义类"
   ]
  },
  {
   "cell_type": "markdown",
   "metadata": {},
   "source": [
    "我们通过子类化`nn.Module`来定义神经网络，并在`__init__`中初始化神经网络层。每个`nn.Module`子类都实现了`forward`方法中对输入数据的操作。"
   ]
  },
  {
   "cell_type": "code",
   "execution_count": 3,
   "metadata": {},
   "outputs": [],
   "source": [
    "class NeuralNetwork(nn.Module):\n",
    "    def __init__(self):\n",
    "        super().__init__()\n",
    "        self.flatten = nn.Flatten()\n",
    "        self.linear_relu_stack = nn.Sequential(\n",
    "            nn.Linear(28*28, 512),\n",
    "            nn.ReLU(),\n",
    "            nn.Linear(512, 512),\n",
    "            nn.ReLU(),\n",
    "            nn.Linear(512, 10),\n",
    "        )\n",
    "\n",
    "    def forward(self, x):\n",
    "        x = self.flatten(x)\n",
    "        logits = self.linear_relu_stack(x)\n",
    "        return logits"
   ]
  },
  {
   "cell_type": "markdown",
   "metadata": {},
   "source": [
    "我们创建一个`NeuralNetwork`实例，并将其移动到`device`上，并打印其结构。"
   ]
  },
  {
   "cell_type": "code",
   "execution_count": 4,
   "metadata": {},
   "outputs": [
    {
     "name": "stdout",
     "output_type": "stream",
     "text": [
      "NeuralNetwork(\n",
      "  (flatten): Flatten(start_dim=1, end_dim=-1)\n",
      "  (linear_relu_stack): Sequential(\n",
      "    (0): Linear(in_features=784, out_features=512, bias=True)\n",
      "    (1): ReLU()\n",
      "    (2): Linear(in_features=512, out_features=512, bias=True)\n",
      "    (3): ReLU()\n",
      "    (4): Linear(in_features=512, out_features=10, bias=True)\n",
      "  )\n",
      ")\n"
     ]
    }
   ],
   "source": [
    "model = NeuralNetwork().to(device)\n",
    "print(model)"
   ]
  },
  {
   "cell_type": "markdown",
   "metadata": {},
   "source": [
    "为了使用该模型，我们将输入数据传递给它。这将执行模型的forward以及一些[后台操作](https://github.com/pytorch/pytorch/blob/270111b7b611d174967ed204776985cefca9c144/torch/nn/modules/module.py#L866)。不要直接调用`model.forward()`"
   ]
  },
  {
   "cell_type": "markdown",
   "metadata": {},
   "source": [
    "在输入上调用模型会返回一个二维张量，其中 `dim=0` 对应于每个类的 10 个原始预测值的每个输出，`dim=1` 对应于每个输出的各个值。我们通过将预测概率传递给`nn.Softmax`模块的实例来获得预测概率。"
   ]
  },
  {
   "cell_type": "code",
   "execution_count": 5,
   "metadata": {},
   "outputs": [
    {
     "name": "stdout",
     "output_type": "stream",
     "text": [
      "model logits:\n",
      "tensor([[-0.0118,  0.0263,  0.0279,  0.1242,  0.0405,  0.0814, -0.0302, -0.1246,\n",
      "         -0.0750,  0.0437],\n",
      "        [-0.0075, -0.0157,  0.0388,  0.1584,  0.0617,  0.1117, -0.0177, -0.0422,\n",
      "         -0.0661,  0.0711],\n",
      "        [-0.0512,  0.0358,  0.0146,  0.1329,  0.1074,  0.0280, -0.0452, -0.0168,\n",
      "         -0.0474,  0.0212]], device='mps:0', grad_fn=<LinearBackward0>)\n",
      "Predicted class: tensor([3, 3, 3], device='mps:0')\n"
     ]
    }
   ],
   "source": [
    "X = torch.rand(3, 28, 28, device=device)\n",
    "logits = model(X)\n",
    "print(f\"model logits:\\n{logits}\")\n",
    "pred_probab = nn.Softmax(dim=1)(logits)\n",
    "y_pred = pred_probab.argmax(1)\n",
    "print(f\"Predicted class: {y_pred}\")"
   ]
  },
  {
   "cell_type": "markdown",
   "metadata": {},
   "source": [
    "## Model Layers 模型层"
   ]
  },
  {
   "cell_type": "markdown",
   "metadata": {},
   "source": [
    "让我们分解 FashionMNIST 模型中的各个层。为了说明这一点，我们将采用 3 个大小为 28x28 的图像的小批量样本，并看看当我们将其传递到网络时会发生什么。"
   ]
  },
  {
   "cell_type": "code",
   "execution_count": 6,
   "metadata": {},
   "outputs": [
    {
     "name": "stdout",
     "output_type": "stream",
     "text": [
      "torch.Size([3, 28, 28])\n"
     ]
    }
   ],
   "source": [
    "input_image = torch.rand(3,28,28)\n",
    "print(input_image.size())"
   ]
  },
  {
   "cell_type": "markdown",
   "metadata": {},
   "source": [
    "### `nn.Flatten`"
   ]
  },
  {
   "cell_type": "markdown",
   "metadata": {},
   "source": [
    "我们初始化`nn.Flatten`层，将每个 2D 28x28 图像转换为 784 个像素值的连续数组（维持小批量维度（在 `dim=0` 时））"
   ]
  },
  {
   "cell_type": "code",
   "execution_count": 7,
   "metadata": {},
   "outputs": [
    {
     "name": "stdout",
     "output_type": "stream",
     "text": [
      "torch.Size([3, 784])\n"
     ]
    }
   ],
   "source": [
    "flatten = nn.Flatten()\n",
    "flat_image = flatten(input_image)\n",
    "print(flat_image.size())"
   ]
  },
  {
   "cell_type": "markdown",
   "metadata": {},
   "source": [
    "### `nn.Linear`"
   ]
  },
  {
   "cell_type": "markdown",
   "metadata": {},
   "source": [
    "[线性层](https://pytorch.org/docs/stable/generated/torch.nn.Linear.html)是一个使用其存储的权重和偏差对输入应用线性变换的模块。"
   ]
  },
  {
   "cell_type": "code",
   "execution_count": 8,
   "metadata": {},
   "outputs": [
    {
     "name": "stdout",
     "output_type": "stream",
     "text": [
      "torch.Size([3, 20])\n"
     ]
    }
   ],
   "source": [
    "layer1 = nn.Linear(in_features=28*28, out_features=20)\n",
    "hidden1 = layer1(flat_image)\n",
    "print(hidden1.size())"
   ]
  },
  {
   "cell_type": "markdown",
   "metadata": {},
   "source": [
    "### `nn.ReLU`"
   ]
  },
  {
   "cell_type": "markdown",
   "metadata": {},
   "source": [
    "非线性激活是在模型的输入和输出之间创建复杂映射的原因。它们在线性变换后应用以引入非线性，帮助神经网络学习各种现象。"
   ]
  },
  {
   "cell_type": "markdown",
   "metadata": {},
   "source": [
    "在此模型中，我们在线性层之间使用[nn.ReLU](https://pytorch.org/docs/stable/generated/torch.nn.ReLU.html)，但还有其他激活可以在模型中引入非线性。"
   ]
  },
  {
   "cell_type": "code",
   "execution_count": 9,
   "metadata": {},
   "outputs": [
    {
     "name": "stdout",
     "output_type": "stream",
     "text": [
      "Before ReLU: tensor([[ 0.0120, -0.2038,  0.0225, -0.1637, -0.2653,  0.2652,  0.1486, -0.0780,\n",
      "         -0.5483,  0.2662, -0.1375,  0.1128, -0.0870,  0.4732, -0.6000, -0.5804,\n",
      "          0.1340,  0.0281, -0.0238,  0.1907],\n",
      "        [-0.4260, -0.4172,  0.0416,  0.2599, -0.6496, -0.0539,  0.1762,  0.1715,\n",
      "         -0.7274,  0.2796, -0.1365,  0.0299, -0.0363,  0.2670, -0.3956, -0.6340,\n",
      "         -0.3685,  0.2073,  0.1167,  0.3742],\n",
      "        [-0.5934, -0.5214,  0.1683,  0.1446, -0.3364,  0.2474,  0.2864, -0.0302,\n",
      "         -0.8655,  0.0860, -0.1926,  0.3460, -0.3002, -0.0481, -0.0352, -0.5657,\n",
      "          0.1310, -0.0317,  0.0199,  0.2212]], grad_fn=<AddmmBackward0>)\n",
      "\n",
      "\n",
      "After ReLU: tensor([[0.0120, 0.0000, 0.0225, 0.0000, 0.0000, 0.2652, 0.1486, 0.0000, 0.0000,\n",
      "         0.2662, 0.0000, 0.1128, 0.0000, 0.4732, 0.0000, 0.0000, 0.1340, 0.0281,\n",
      "         0.0000, 0.1907],\n",
      "        [0.0000, 0.0000, 0.0416, 0.2599, 0.0000, 0.0000, 0.1762, 0.1715, 0.0000,\n",
      "         0.2796, 0.0000, 0.0299, 0.0000, 0.2670, 0.0000, 0.0000, 0.0000, 0.2073,\n",
      "         0.1167, 0.3742],\n",
      "        [0.0000, 0.0000, 0.1683, 0.1446, 0.0000, 0.2474, 0.2864, 0.0000, 0.0000,\n",
      "         0.0860, 0.0000, 0.3460, 0.0000, 0.0000, 0.0000, 0.0000, 0.1310, 0.0000,\n",
      "         0.0199, 0.2212]], grad_fn=<ReluBackward0>)\n"
     ]
    }
   ],
   "source": [
    "print(f\"Before ReLU: {hidden1}\\n\\n\")\n",
    "hidden1 = nn.ReLU()(hidden1)\n",
    "print(f\"After ReLU: {hidden1}\")"
   ]
  },
  {
   "cell_type": "markdown",
   "metadata": {},
   "source": [
    "### `nn.Sequential`"
   ]
  },
  {
   "cell_type": "markdown",
   "metadata": {},
   "source": [
    "[nn.Sequential](https://pytorch.org/docs/stable/generated/torch.nn.Sequential.html)是模块的有序容器。数据按照定义的相同顺序传递通过所有模块。您可以使用顺序容器来组合一个快速网络，例如`seq_modules`。"
   ]
  },
  {
   "cell_type": "code",
   "execution_count": 10,
   "metadata": {},
   "outputs": [
    {
     "name": "stdout",
     "output_type": "stream",
     "text": [
      "tensor([[-0.0263, -0.0073,  0.0043, -0.0495,  0.0560,  0.0378,  0.1985, -0.1308,\n",
      "          0.1699, -0.0246],\n",
      "        [-0.0225,  0.0528, -0.0500, -0.0111,  0.0664,  0.1160,  0.1757, -0.1098,\n",
      "          0.1114,  0.0474],\n",
      "        [ 0.0678,  0.0790,  0.0781,  0.0045,  0.1316,  0.0240,  0.1933, -0.1146,\n",
      "          0.1610, -0.0028]], grad_fn=<AddmmBackward0>)\n"
     ]
    }
   ],
   "source": [
    "seq_modules = nn.Sequential(\n",
    "    flatten,\n",
    "    layer1,\n",
    "    nn.ReLU(),\n",
    "    nn.Linear(20, 10)\n",
    ")\n",
    "input_image = torch.rand(3,28,28)\n",
    "logits = seq_modules(input_image)\n",
    "print(logits)"
   ]
  },
  {
   "cell_type": "markdown",
   "metadata": {},
   "source": [
    "### `nn.Softmax`"
   ]
  },
  {
   "cell_type": "markdown",
   "metadata": {},
   "source": [
    "神经网络的最后一个线性层返回`logits` - `[-infty, infty]` 中的原始值 - 被传递到`nn.Softmax`模块。 `Logits` 缩放为值 `[0, 1]`，表示模型对每个类别的预测概率。 dim参数指示值总和必须为 1 的维度。"
   ]
  },
  {
   "cell_type": "code",
   "execution_count": 11,
   "metadata": {},
   "outputs": [
    {
     "name": "stdout",
     "output_type": "stream",
     "text": [
      "tensor([[0.0948, 0.0966, 0.0977, 0.0926, 0.1029, 0.1011, 0.1187, 0.0854, 0.1153,\n",
      "         0.0949],\n",
      "        [0.0938, 0.1012, 0.0913, 0.0949, 0.1026, 0.1078, 0.1144, 0.0860, 0.1073,\n",
      "         0.1006],\n",
      "        [0.1002, 0.1013, 0.1012, 0.0941, 0.1068, 0.0959, 0.1136, 0.0835, 0.1100,\n",
      "         0.0934]], grad_fn=<SoftmaxBackward0>)\n"
     ]
    }
   ],
   "source": [
    "softmax = nn.Softmax(dim=1)\n",
    "pred_probab = softmax(logits)\n",
    "print(pred_probab)"
   ]
  },
  {
   "cell_type": "markdown",
   "metadata": {},
   "source": [
    "## Model Parameters 模型参数"
   ]
  },
  {
   "cell_type": "markdown",
   "metadata": {},
   "source": [
    "神经网络内的许多层都是参数化的，即具有在训练期间优化的相关权重和偏差。子类化`nn.Module`自动跟踪模型对象中定义的所有字段，并使用模型的`parameters()`或`named_parameters()`方法使所有参数可访问。"
   ]
  },
  {
   "cell_type": "markdown",
   "metadata": {},
   "source": [
    "在此示例中，我们迭代每个参数，并打印其大小及其值的预览。"
   ]
  },
  {
   "cell_type": "code",
   "execution_count": 12,
   "metadata": {},
   "outputs": [
    {
     "name": "stdout",
     "output_type": "stream",
     "text": [
      "Model structure: NeuralNetwork(\n",
      "  (flatten): Flatten(start_dim=1, end_dim=-1)\n",
      "  (linear_relu_stack): Sequential(\n",
      "    (0): Linear(in_features=784, out_features=512, bias=True)\n",
      "    (1): ReLU()\n",
      "    (2): Linear(in_features=512, out_features=512, bias=True)\n",
      "    (3): ReLU()\n",
      "    (4): Linear(in_features=512, out_features=10, bias=True)\n",
      "  )\n",
      ")\n",
      "\n",
      "\n",
      "Layer: linear_relu_stack.0.weight | Size: torch.Size([512, 784]) | Values : tensor([[ 0.0305, -0.0087, -0.0098,  ..., -0.0311,  0.0198,  0.0319],\n",
      "        [ 0.0233,  0.0262, -0.0090,  ...,  0.0223,  0.0035, -0.0138]],\n",
      "       device='mps:0', grad_fn=<SliceBackward0>) \n",
      "\n",
      "Layer: linear_relu_stack.0.bias | Size: torch.Size([512]) | Values : tensor([ 0.0267, -0.0332], device='mps:0', grad_fn=<SliceBackward0>) \n",
      "\n",
      "Layer: linear_relu_stack.2.weight | Size: torch.Size([512, 512]) | Values : tensor([[ 0.0313, -0.0052, -0.0187,  ...,  0.0301, -0.0108, -0.0374],\n",
      "        [-0.0043,  0.0028, -0.0131,  ...,  0.0198,  0.0303, -0.0259]],\n",
      "       device='mps:0', grad_fn=<SliceBackward0>) \n",
      "\n",
      "Layer: linear_relu_stack.2.bias | Size: torch.Size([512]) | Values : tensor([ 0.0236, -0.0307], device='mps:0', grad_fn=<SliceBackward0>) \n",
      "\n",
      "Layer: linear_relu_stack.4.weight | Size: torch.Size([10, 512]) | Values : tensor([[-0.0378,  0.0328, -0.0407,  ..., -0.0106,  0.0242, -0.0106],\n",
      "        [-0.0402, -0.0117, -0.0395,  ...,  0.0164, -0.0036,  0.0070]],\n",
      "       device='mps:0', grad_fn=<SliceBackward0>) \n",
      "\n",
      "Layer: linear_relu_stack.4.bias | Size: torch.Size([10]) | Values : tensor([-0.0404,  0.0176], device='mps:0', grad_fn=<SliceBackward0>) \n",
      "\n"
     ]
    }
   ],
   "source": [
    "print(f\"Model structure: {model}\\n\\n\")\n",
    "\n",
    "for name, param in model.named_parameters():\n",
    "    print(f\"Layer: {name} | Size: {param.size()} | Values : {param[:2]} \\n\")"
   ]
  }
 ],
 "metadata": {
  "kernelspec": {
   "display_name": "pytorch",
   "language": "python",
   "name": "pytorch"
  },
  "language_info": {
   "codemirror_mode": {
    "name": "ipython",
    "version": 3
   },
   "file_extension": ".py",
   "mimetype": "text/x-python",
   "name": "python",
   "nbconvert_exporter": "python",
   "pygments_lexer": "ipython3",
   "version": "3.10.13"
  }
 },
 "nbformat": 4,
 "nbformat_minor": 2
}
