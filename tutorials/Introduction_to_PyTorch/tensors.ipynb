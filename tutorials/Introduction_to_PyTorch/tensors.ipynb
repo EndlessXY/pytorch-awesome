{
 "cells": [
  {
   "cell_type": "markdown",
   "source": [
    "# Tensors 张量"
   ],
   "metadata": {
    "collapsed": false
   },
   "id": "646cfa7025befc5c"
  },
  {
   "cell_type": "markdown",
   "source": [
    "张量是一种特殊的数据结构，与数组和矩阵非常相似，在Pytorch中我么使用张量来表示模型的输入和输出数据，以及模型的参数。张量是一种多维数组，它可以在GPU上运行以加速计算。"
   ],
   "metadata": {
    "collapsed": false
   },
   "id": "3ff8cff968b5175f"
  },
  {
   "cell_type": "markdown",
   "source": [
    "张量与Numpy的ndarrays非常相似，但张量可以在GPU或其他专用硬件上运行以加速计算。事实上，张量和numpy的ndarrays可以共享底层内存，这样可以避免数据复制，从而加速计算。张量还针对自动微分进行了优化，这是深度学习的一种常用技术，如果熟悉Numpy，那么使用张量将非常简单。"
   ],
   "metadata": {
    "collapsed": false
   },
   "id": "7ebd907a0103e581"
  },
  {
   "cell_type": "code",
   "execution_count": 1,
   "outputs": [],
   "source": [
    "import torch\n",
    "import numpy as np"
   ],
   "metadata": {
    "collapsed": false,
    "ExecuteTime": {
     "end_time": "2024-09-19T02:18:55.544854Z",
     "start_time": "2024-09-19T02:18:54.916212Z"
    }
   },
   "id": "b198fff1220ac444"
  },
  {
   "cell_type": "markdown",
   "source": [
    "## 初始化张量"
   ],
   "metadata": {
    "collapsed": false
   },
   "id": "678350c6464d3f15"
  },
  {
   "cell_type": "markdown",
   "source": [
    "张量可以通过多种方式进行初始化，下面是一些常见的初始化方法。"
   ],
   "metadata": {
    "collapsed": false
   },
   "id": "6ac78ca0fc28828"
  },
  {
   "cell_type": "markdown",
   "source": [
    "### 直接来自数据\n",
    "张量可以直接从数据创建。数据类型是自动推断的。"
   ],
   "metadata": {
    "collapsed": false
   },
   "id": "ec4f96297f67bc20"
  },
  {
   "cell_type": "code",
   "execution_count": 2,
   "outputs": [
    {
     "name": "stdout",
     "output_type": "stream",
     "text": [
      "tensor([[1, 2],\n",
      "        [3, 4]])\n"
     ]
    }
   ],
   "source": [
    "data = [[1, 2],[3, 4]]\n",
    "x_data = torch.tensor(data)\n",
    "print(x_data)"
   ],
   "metadata": {
    "collapsed": false,
    "ExecuteTime": {
     "end_time": "2024-09-19T02:18:55.549714Z",
     "start_time": "2024-09-19T02:18:55.546541Z"
    }
   },
   "id": "c1319f4b595b37e"
  },
  {
   "cell_type": "markdown",
   "source": [
    "### 来自NumPy数组\n",
    "张量可以从NumPy数组创建，反之亦然。"
   ],
   "metadata": {
    "collapsed": false
   },
   "id": "4e8c28d8d18a33fb"
  },
  {
   "cell_type": "code",
   "execution_count": 3,
   "outputs": [
    {
     "name": "stdout",
     "output_type": "stream",
     "text": [
      "tensor([[1, 2],\n",
      "        [3, 4]])\n",
      "[[1 2]\n",
      " [3 4]]\n"
     ]
    }
   ],
   "source": [
    "np_array = np.array(data)\n",
    "x_np = torch.from_numpy(np_array)\n",
    "print(x_np)\n",
    "x_array = x_np.numpy()\n",
    "print(x_array)"
   ],
   "metadata": {
    "collapsed": false,
    "ExecuteTime": {
     "end_time": "2024-09-19T02:18:55.553686Z",
     "start_time": "2024-09-19T02:18:55.550201Z"
    }
   },
   "id": "d6ce254f7f0227be"
  },
  {
   "cell_type": "markdown",
   "source": [
    "### 从另一个张量\n",
    "新张量保留另一个张量的属性（形状、数据类型），除非显式覆盖。"
   ],
   "metadata": {
    "collapsed": false
   },
   "id": "a297535bf8795c21"
  },
  {
   "cell_type": "code",
   "execution_count": 4,
   "outputs": [
    {
     "name": "stdout",
     "output_type": "stream",
     "text": [
      "Ones Tensor: \n",
      " tensor([[1, 1],\n",
      "        [1, 1]]) \n",
      "\n",
      "Random Tensor: \n",
      " tensor([[0.4569, 0.4040],\n",
      "        [0.8684, 0.6814]]) \n"
     ]
    }
   ],
   "source": [
    "x_ones = torch.ones_like(x_data) # retains the properties of x_data\n",
    "print(f\"Ones Tensor: \\n {x_ones} \\n\")\n",
    "\n",
    "x_rand = torch.rand_like(x_data, dtype=torch.float) # overrides the datatype of x_data\n",
    "print(f\"Random Tensor: \\n {x_rand} \\n\")"
   ],
   "metadata": {
    "collapsed": false,
    "ExecuteTime": {
     "end_time": "2024-09-19T02:18:55.557776Z",
     "start_time": "2024-09-19T02:18:55.554226Z"
    }
   },
   "id": "c8d9bbca9a559879"
  },
  {
   "cell_type": "markdown",
   "source": [
    "### 使用随机值或常量值\n",
    "`shape`是张量维度的元组。在下面的函数中，它确定输出张量的维数。"
   ],
   "metadata": {
    "collapsed": false
   },
   "id": "29cb96cb8d299367"
  },
  {
   "cell_type": "code",
   "execution_count": 5,
   "outputs": [
    {
     "name": "stdout",
     "output_type": "stream",
     "text": [
      "Random Tensor: \n",
      " tensor([[0.7122, 0.7309, 0.1254],\n",
      "        [0.3602, 0.8863, 0.1028]]) \n",
      "\n",
      "Ones Tensor: \n",
      " tensor([[1., 1., 1.],\n",
      "        [1., 1., 1.]]) \n",
      "\n",
      "Zeros Tensor: \n",
      " tensor([[0., 0., 0.],\n",
      "        [0., 0., 0.]])\n"
     ]
    }
   ],
   "source": [
    "shape = (2,3,)\n",
    "rand_tensor = torch.rand(shape)\n",
    "ones_tensor = torch.ones(shape)\n",
    "zeros_tensor = torch.zeros(shape)\n",
    "\n",
    "print(f\"Random Tensor: \\n {rand_tensor} \\n\")\n",
    "print(f\"Ones Tensor: \\n {ones_tensor} \\n\")\n",
    "print(f\"Zeros Tensor: \\n {zeros_tensor}\")"
   ],
   "metadata": {
    "collapsed": false,
    "ExecuteTime": {
     "end_time": "2024-09-19T02:18:55.564699Z",
     "start_time": "2024-09-19T02:18:55.559287Z"
    }
   },
   "id": "91c783aae5761782"
  },
  {
   "cell_type": "markdown",
   "source": [
    "## 张量属性"
   ],
   "metadata": {
    "collapsed": false
   },
   "id": "6c55fb352047f1e7"
  },
  {
   "cell_type": "markdown",
   "source": [
    "张量属性描述了它们的形状、数据类型以及存储它们的设备。"
   ],
   "metadata": {
    "collapsed": false
   },
   "id": "b9ed829695d72fc0"
  },
  {
   "cell_type": "code",
   "execution_count": 6,
   "outputs": [
    {
     "name": "stdout",
     "output_type": "stream",
     "text": [
      "Shape of tensor: torch.Size([3, 4])\n",
      "Datatype of tensor: torch.float32\n",
      "Device tensor is stored on: cpu\n"
     ]
    }
   ],
   "source": [
    "tensor = torch.rand(3,4)\n",
    "\n",
    "print(f\"Shape of tensor: {tensor.shape}\")\n",
    "print(f\"Datatype of tensor: {tensor.dtype}\")\n",
    "print(f\"Device tensor is stored on: {tensor.device}\")"
   ],
   "metadata": {
    "collapsed": false,
    "ExecuteTime": {
     "end_time": "2024-09-19T02:18:55.595826Z",
     "start_time": "2024-09-19T02:18:55.563610Z"
    }
   },
   "id": "777fdcd3fac4ceef"
  },
  {
   "cell_type": "markdown",
   "source": [
    "## 张量运算"
   ],
   "metadata": {
    "collapsed": false
   },
   "id": "8073694450684abb"
  },
  {
   "cell_type": "markdown",
   "source": [
    "[这里](https://pytorch.org/docs/stable/torch.html)全面描述了 100 多种张量运算，包括算术、线性代数、矩阵操作（转置、索引、切片）、采样等。"
   ],
   "metadata": {
    "collapsed": false
   },
   "id": "8dfedb5b0a37319a"
  },
  {
   "cell_type": "markdown",
   "source": [
    "这些操作中的每一个都可以在 GPU 上运行（速度通常高于 CPU）。如果您使用的是 Colab，请转至运行时 > 更改运行时类型 > GPU 来分配 GPU。"
   ],
   "metadata": {
    "collapsed": false
   },
   "id": "44c629ed9b39ede5"
  },
  {
   "cell_type": "markdown",
   "source": [
    "默认情况下，张量是在 CPU 上创建的。我们需要使用`.to`方法显式地将张量移动到 GPU（在检查 GPU 可用性之后）。请记住，跨设备复制大张量在时间和内存方面可能会很昂贵！"
   ],
   "metadata": {
    "collapsed": false
   },
   "id": "a28e19f464e07a56"
  },
  {
   "cell_type": "code",
   "execution_count": 7,
   "outputs": [
    {
     "name": "stdout",
     "output_type": "stream",
     "text": [
      "Current device: mps\n"
     ]
    }
   ],
   "source": [
    "device = torch.device(\"cuda\" if torch.cuda.is_available() else \"mps\" if torch.backends.mps.is_available() else \"cpu\")\n",
    "print(f\"Current device: {device}\")"
   ],
   "metadata": {
    "collapsed": false,
    "ExecuteTime": {
     "end_time": "2024-09-19T02:18:55.609176Z",
     "start_time": "2024-09-19T02:18:55.604517Z"
    }
   },
   "id": "3dab4bc93931a589"
  },
  {
   "cell_type": "code",
   "execution_count": 8,
   "outputs": [],
   "source": [
    "tensor = tensor.to(device)"
   ],
   "metadata": {
    "collapsed": false,
    "ExecuteTime": {
     "end_time": "2024-09-19T02:18:55.649973Z",
     "start_time": "2024-09-19T02:18:55.606642Z"
    }
   },
   "id": "2a454c5fc4d00dce"
  },
  {
   "cell_type": "markdown",
   "source": [
    "尝试列表中的一些操作。如果您熟悉 NumPy API，您会发现 Tensor API 使用起来非常简单。"
   ],
   "metadata": {
    "collapsed": false
   },
   "id": "cf8a9d25d1c041f5"
  },
  {
   "cell_type": "markdown",
   "source": [
    "标准的类似 numpy 的索引和切片："
   ],
   "metadata": {
    "collapsed": false
   },
   "id": "d1a034ca03a04aa8"
  },
  {
   "cell_type": "code",
   "execution_count": 9,
   "outputs": [
    {
     "name": "stdout",
     "output_type": "stream",
     "text": [
      "First row: tensor([1., 1., 1., 1.])\n",
      "First column: tensor([1., 1., 1., 1.])\n",
      "Last column: tensor([1., 1., 1., 1.])\n",
      "tensor([[1., 0., 1., 1.],\n",
      "        [1., 0., 1., 1.],\n",
      "        [1., 0., 1., 1.],\n",
      "        [1., 0., 1., 1.]])\n"
     ]
    }
   ],
   "source": [
    "tensor = torch.ones(4, 4)\n",
    "print(f\"First row: {tensor[0]}\")\n",
    "print(f\"First column: {tensor[:, 0]}\")\n",
    "print(f\"Last column: {tensor[..., -1]}\")\n",
    "tensor[:,1] = 0\n",
    "print(tensor)"
   ],
   "metadata": {
    "collapsed": false,
    "ExecuteTime": {
     "end_time": "2024-09-19T02:18:55.654208Z",
     "start_time": "2024-09-19T02:18:55.650651Z"
    }
   },
   "id": "b098e145d129aab0"
  },
  {
   "cell_type": "markdown",
   "source": [
    "连接张量您可以使用`torch.cat`沿给定维度连接一系列张量。另请参见[torch.stack](https://pytorch.org/docs/stable/generated/torch.stack.html) ，这是另一个与`torch.cat`略有不同的张量连接运算符。"
   ],
   "metadata": {
    "collapsed": false
   },
   "id": "80236fda07eb180a"
  },
  {
   "cell_type": "code",
   "execution_count": 10,
   "outputs": [
    {
     "name": "stdout",
     "output_type": "stream",
     "text": [
      "tensor([[1., 0., 1., 1., 1., 0., 1., 1., 1., 0., 1., 1.],\n",
      "        [1., 0., 1., 1., 1., 0., 1., 1., 1., 0., 1., 1.],\n",
      "        [1., 0., 1., 1., 1., 0., 1., 1., 1., 0., 1., 1.],\n",
      "        [1., 0., 1., 1., 1., 0., 1., 1., 1., 0., 1., 1.]])\n"
     ]
    }
   ],
   "source": [
    "t1 = torch.cat([tensor, tensor, tensor], dim=1)\n",
    "print(t1)"
   ],
   "metadata": {
    "collapsed": false,
    "ExecuteTime": {
     "end_time": "2024-09-19T02:18:55.661615Z",
     "start_time": "2024-09-19T02:18:55.654657Z"
    }
   },
   "id": "c528fd2afef1b5cb"
  },
  {
   "cell_type": "markdown",
   "source": [
    "算术运算"
   ],
   "metadata": {
    "collapsed": false
   },
   "id": "829216949bc7c42c"
  },
  {
   "cell_type": "code",
   "execution_count": 11,
   "outputs": [
    {
     "name": "stdout",
     "output_type": "stream",
     "text": [
      "tensor @ tensor.T: \n",
      " tensor([[3., 3., 3., 3.],\n",
      "        [3., 3., 3., 3.],\n",
      "        [3., 3., 3., 3.],\n",
      "        [3., 3., 3., 3.]]) \n",
      "\n",
      "tensor.matmul(tensor.T): \n",
      " tensor([[3., 3., 3., 3.],\n",
      "        [3., 3., 3., 3.],\n",
      "        [3., 3., 3., 3.],\n",
      "        [3., 3., 3., 3.]]) \n",
      "\n",
      "y3: \n",
      " tensor([[0.9986, 0.7715, 0.4549, 0.6557],\n",
      "        [0.5811, 0.1962, 0.8139, 0.0939],\n",
      "        [0.0758, 0.7621, 0.2436, 0.4743],\n",
      "        [0.8942, 0.0020, 0.8214, 0.9899]]) \n",
      "\n",
      "torch.matmul(tensor, tensor.T, out=y3): \n",
      " tensor([[3., 3., 3., 3.],\n",
      "        [3., 3., 3., 3.],\n",
      "        [3., 3., 3., 3.],\n",
      "        [3., 3., 3., 3.]]) \n",
      "\n",
      "tensor * tensor: \n",
      " tensor([[1., 0., 1., 1.],\n",
      "        [1., 0., 1., 1.],\n",
      "        [1., 0., 1., 1.],\n",
      "        [1., 0., 1., 1.]]) \n",
      "\n",
      "tensor.mul(tensor): \n",
      " tensor([[1., 0., 1., 1.],\n",
      "        [1., 0., 1., 1.],\n",
      "        [1., 0., 1., 1.],\n",
      "        [1., 0., 1., 1.]]) \n",
      "\n",
      "z3: \n",
      " tensor([[0.3032, 0.4704, 0.4271, 0.3427],\n",
      "        [0.7269, 0.7937, 0.3649, 0.9858],\n",
      "        [0.7570, 0.7217, 0.0050, 0.6798],\n",
      "        [0.2116, 0.5671, 0.5256, 0.8109]]) \n",
      "\n",
      "torch.mul(tensor, tensor, out=z3): \n",
      " tensor([[1., 0., 1., 1.],\n",
      "        [1., 0., 1., 1.],\n",
      "        [1., 0., 1., 1.],\n",
      "        [1., 0., 1., 1.]])\n"
     ]
    }
   ],
   "source": [
    "# This computes the matrix multiplication between two tensors. y1, y2, y3 will have the same value\n",
    "# ``tensor.T`` returns the transpose of a tensor\n",
    "# 矩阵乘矩阵的转置 方法一\n",
    "y1 = tensor @ tensor.T\n",
    "print(f\"tensor @ tensor.T: \\n {y1} \\n\")\n",
    "# 矩阵乘矩阵的转置 方法二\n",
    "y2 = tensor.matmul(tensor.T)\n",
    "print(f\"tensor.matmul(tensor.T): \\n {y2} \\n\")\n",
    "\n",
    "y3 = torch.rand_like(y1)\n",
    "print(f\"y3: \\n {y3} \\n\")\n",
    "# 矩阵乘矩阵的转置 方法三 将矩阵乘法的结果直接存储到一个已经存在的张量 y3 中，而不需要重新分配内存。这种方式在处理大张量时可以节省内存开销并提高性能。\n",
    "torch.matmul(tensor, tensor.T, out=y3)\n",
    "print(f\"torch.matmul(tensor, tensor.T, out=y3): \\n {y3} \\n\")\n",
    "\n",
    "# This computes the element-wise product. z1, z2, z3 will have the same value\n",
    "## 两个张量中的每个位置的元素逐个相乘，要求两个张量的形状一致\n",
    "z1 = tensor * tensor\n",
    "print(f\"tensor * tensor: \\n {z1} \\n\")\n",
    "z2 = tensor.mul(tensor)\n",
    "print(f\"tensor.mul(tensor): \\n {z2} \\n\")\n",
    "\n",
    "z3 = torch.rand_like(tensor)\n",
    "print(f\"z3: \\n {z3} \\n\")\n",
    "torch.mul(tensor, tensor, out=z3)\n",
    "print(f\"torch.mul(tensor, tensor, out=z3): \\n {z3}\")"
   ],
   "metadata": {
    "collapsed": false,
    "ExecuteTime": {
     "end_time": "2024-09-19T02:18:55.665223Z",
     "start_time": "2024-09-19T02:18:55.658558Z"
    }
   },
   "id": "5b4805d945ad4edb"
  },
  {
   "cell_type": "markdown",
   "source": [
    "单元素张量如果您有一个单元素张量，例如通过将张量的所有值聚合为一个值，您可以使用item()将其转换为 Python 数值"
   ],
   "metadata": {
    "collapsed": false
   },
   "id": "66c6de928fe54e1e"
  },
  {
   "cell_type": "code",
   "execution_count": 12,
   "outputs": [
    {
     "name": "stdout",
     "output_type": "stream",
     "text": [
      "12.0 <class 'float'>\n"
     ]
    }
   ],
   "source": [
    "agg = tensor.sum()\n",
    "agg_item = agg.item()\n",
    "print(agg_item, type(agg_item))"
   ],
   "metadata": {
    "collapsed": false,
    "ExecuteTime": {
     "end_time": "2024-09-19T02:18:55.672599Z",
     "start_time": "2024-09-19T02:18:55.664638Z"
    }
   },
   "id": "a966fcad78cade7b"
  },
  {
   "cell_type": "markdown",
   "source": [
    "就地运算将结果存储到操作数中的操作称为就地运算。它们由`_`后缀表示。例如： `x.copy_(y)` 、 `x.t_()`会更改x 。"
   ],
   "metadata": {
    "collapsed": false
   },
   "id": "d7743c751f4676b6"
  },
  {
   "cell_type": "code",
   "execution_count": 13,
   "outputs": [
    {
     "name": "stdout",
     "output_type": "stream",
     "text": [
      "tensor([[1., 0., 1., 1.],\n",
      "        [1., 0., 1., 1.],\n",
      "        [1., 0., 1., 1.],\n",
      "        [1., 0., 1., 1.]]) \n",
      "\n",
      "tensor([[6., 5., 6., 6.],\n",
      "        [6., 5., 6., 6.],\n",
      "        [6., 5., 6., 6.],\n",
      "        [6., 5., 6., 6.]])\n"
     ]
    }
   ],
   "source": [
    "print(f\"{tensor} \\n\")\n",
    "tensor.add_(5)\n",
    "print(tensor)"
   ],
   "metadata": {
    "collapsed": false,
    "ExecuteTime": {
     "end_time": "2024-09-19T02:18:55.672825Z",
     "start_time": "2024-09-19T02:18:55.667160Z"
    }
   },
   "id": "5f7e3dfe2b26e966"
  },
  {
   "cell_type": "markdown",
   "source": [
    "> 就地操作可以节省一些内存，但在计算导数时可能会出现问题，因为历史记录会立即丢失。因此，不鼓励使用它们。"
   ],
   "metadata": {
    "collapsed": false
   },
   "id": "a2a02ec229b98189"
  },
  {
   "cell_type": "markdown",
   "source": [
    "## 桥接 NumPy 和张量(Bridge with NumPy)"
   ],
   "metadata": {
    "collapsed": false
   },
   "id": "a80560eace2fceaf"
  },
  {
   "cell_type": "markdown",
   "source": [
    "CPU 和 NumPy 数组上的张量可以共享其底层内存位置，改变其中一个就会改变另一个。"
   ],
   "metadata": {
    "collapsed": false
   },
   "id": "e6b575f3ef5260a6"
  },
  {
   "cell_type": "markdown",
   "source": [
    "### 张量到 NumPy 数组"
   ],
   "metadata": {
    "collapsed": false
   },
   "id": "8dd75d468a0d7ae4"
  },
  {
   "cell_type": "code",
   "execution_count": 14,
   "outputs": [
    {
     "name": "stdout",
     "output_type": "stream",
     "text": [
      "t: tensor([1., 1., 1., 1., 1.])\n",
      "n: [1. 1. 1. 1. 1.]\n"
     ]
    }
   ],
   "source": [
    "t = torch.ones(5)\n",
    "print(f\"t: {t}\")\n",
    "n = t.numpy()\n",
    "print(f\"n: {n}\")"
   ],
   "metadata": {
    "collapsed": false,
    "ExecuteTime": {
     "end_time": "2024-09-19T02:18:55.701890Z",
     "start_time": "2024-09-19T02:18:55.672392Z"
    }
   },
   "id": "aae9d2d1686e208e"
  },
  {
   "cell_type": "markdown",
   "source": [
    "张量的变化反映在 NumPy 数组中。"
   ],
   "metadata": {
    "collapsed": false
   },
   "id": "502bee0c46c43cd"
  },
  {
   "cell_type": "code",
   "execution_count": 15,
   "outputs": [
    {
     "name": "stdout",
     "output_type": "stream",
     "text": [
      "t: tensor([2., 2., 2., 2., 2.])\n",
      "n: [2. 2. 2. 2. 2.]\n"
     ]
    }
   ],
   "source": [
    "t.add_(1)\n",
    "print(f\"t: {t}\")\n",
    "print(f\"n: {n}\")"
   ],
   "metadata": {
    "collapsed": false,
    "ExecuteTime": {
     "end_time": "2024-09-19T02:18:55.702334Z",
     "start_time": "2024-09-19T02:18:55.675502Z"
    }
   },
   "id": "d22fe81a4555b122"
  },
  {
   "cell_type": "markdown",
   "source": [
    "### 数组到张量"
   ],
   "metadata": {
    "collapsed": false
   },
   "id": "60d021f2ed4bea42"
  },
  {
   "cell_type": "code",
   "execution_count": 16,
   "outputs": [],
   "source": [
    "n = np.ones(5)\n",
    "t = torch.from_numpy(n)"
   ],
   "metadata": {
    "collapsed": false,
    "ExecuteTime": {
     "end_time": "2024-09-19T02:18:55.702523Z",
     "start_time": "2024-09-19T02:18:55.678415Z"
    }
   },
   "id": "5affab752d3f4e38"
  },
  {
   "cell_type": "markdown",
   "source": [
    "NumPy 数组中的变化反映在张量中。"
   ],
   "metadata": {
    "collapsed": false
   },
   "id": "3d7a672550fd6bed"
  },
  {
   "cell_type": "code",
   "execution_count": 17,
   "outputs": [
    {
     "name": "stdout",
     "output_type": "stream",
     "text": [
      "t: tensor([2., 2., 2., 2., 2.], dtype=torch.float64)\n",
      "n: [2. 2. 2. 2. 2.]\n"
     ]
    }
   ],
   "source": [
    "np.add(n, 1, out=n)\n",
    "print(f\"t: {t}\")\n",
    "print(f\"n: {n}\")"
   ],
   "metadata": {
    "collapsed": false,
    "ExecuteTime": {
     "end_time": "2024-09-19T02:18:55.702779Z",
     "start_time": "2024-09-19T02:18:55.680727Z"
    }
   },
   "id": "c587ec6df0f7504c"
  }
 ],
 "metadata": {
  "kernelspec": {
   "name": "pytorch",
   "language": "python",
   "display_name": "pytorch"
  },
  "language_info": {
   "codemirror_mode": {
    "name": "ipython",
    "version": 2
   },
   "file_extension": ".py",
   "mimetype": "text/x-python",
   "name": "python",
   "nbconvert_exporter": "python",
   "pygments_lexer": "ipython2",
   "version": "2.7.6"
  }
 },
 "nbformat": 4,
 "nbformat_minor": 5
}
